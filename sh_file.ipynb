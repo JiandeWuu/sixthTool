{
 "cells": [
  {
   "cell_type": "code",
   "execution_count": null,
   "metadata": {},
   "outputs": [],
   "source": [
    "\n",
    "s = \"\"\n",
    "\n",
    "for i in range(10):\n",
    "        train_i_file = \"data/RBP_eclip/All/merge/fold/ensembl__merge__seq__RBPpred__RBPPWM_10-3_or__fold%s-train.npy\" %i\n",
    "        test_i_file = \"data/RBP_eclip/All/merge/fold/ensembl__merge__seq__RBPpred__RBPPWM_10-3_or__fold%s-test.npy\" % i\n",
    "        train_l_file = \"data/RBP_eclip/All/merge/fold/ensembl__y__fold%s-train.npy\" % i\n",
    "        test_l_file = \"data/RBP_eclip/All/merge/fold/ensembl__y__fold%s-test.npy\" % i\n",
    "        s += \"nohup python save_model.py -m esvm\\\n",
    "        -x %s\\\n",
    "        -y %s\\\n",
    "        -i %s\\\n",
    "        -l %s\\\n",
    "        -p data/RBP_eclip/output/merge___ensembl__merge__seq__RBPpred__RBPPWM_10-3_or___esvm_f10_e512_s10_t1000_p8.json\\\n",
    "        -s %s\\\n",
    "        &>%s&\\n\" % (train_i_file, train_l_file, test_i_file, test_l_file, \"data/model/merge_data/0713/ensembl__merge__seq__RBPpred__RBPPWM_10-3_or__fold%s.pickle\" % i, \"log/ensembl__merge__seq__RBPpred__RBPPWM_10-3_or__fold%s.txt\" % i)\n",
    "    \n",
    "with open('sh_file/esvm.sh', 'w') as fp:\n",
    "    fp.write(s)"
   ]
  }
 ],
 "metadata": {
  "language_info": {
   "name": "python"
  },
  "orig_nbformat": 4
 },
 "nbformat": 4,
 "nbformat_minor": 2
}
