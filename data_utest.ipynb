{
 "cells": [
  {
   "cell_type": "code",
   "execution_count": 1,
   "metadata": {},
   "outputs": [],
   "source": [
    "import numpy as np\n",
    "from scipy.stats import mannwhitneyu"
   ]
  },
  {
   "cell_type": "code",
   "execution_count": 2,
   "metadata": {},
   "outputs": [],
   "source": [
    "X = np.load(\"data/merge_data/seq_rbp/transcript2pse_in_one*rbp_pvalue_cutoff10-3_-log10__train__x.npy\")\n",
    "y = np.load(\"data/merge_data/seq_rbp/pse_in_one2__rbp_10-3_-log10__train__y.npy\")"
   ]
  },
  {
   "cell_type": "code",
   "execution_count": 5,
   "metadata": {},
   "outputs": [],
   "source": [
    "u_test_list = []\n",
    "for i in range(X.shape[1]):\n",
    "    U1, p = mannwhitneyu(X[y == 1, i], X[y == 0, i])\n",
    "    u_test_list.append([i, U1, p])\n",
    "u_test_array = np.array(u_test_list)\n",
    "# np.save(\"data/merge_data/seq_rbp/t2p*r_p_10-3_-log10__trian__x__u_test.npy\", u_test_array[:, 2])"
   ]
  },
  {
   "cell_type": "code",
   "execution_count": 18,
   "metadata": {},
   "outputs": [
    {
     "data": {
      "text/plain": [
       "2704"
      ]
     },
     "execution_count": 18,
     "metadata": {},
     "output_type": "execute_result"
    }
   ],
   "source": [
    "sum(u_test_array[:, 2] < 0.01)"
   ]
  },
  {
   "cell_type": "code",
   "execution_count": 16,
   "metadata": {},
   "outputs": [
    {
     "data": {
      "text/plain": [
       "array([ 15.30858425, 152.9308424 ,   1.90180375, ...,  25.51709444,\n",
       "        13.40301872,  21.02407933])"
      ]
     },
     "execution_count": 16,
     "metadata": {},
     "output_type": "execute_result"
    }
   ],
   "source": [
    "sum(X[:, u_test_array[:, 2] < 0.05])"
   ]
  },
  {
   "cell_type": "code",
   "execution_count": null,
   "metadata": {},
   "outputs": [],
   "source": []
  }
 ],
 "metadata": {
  "kernelspec": {
   "display_name": "jand_venv_39",
   "language": "python",
   "name": "python3"
  },
  "language_info": {
   "codemirror_mode": {
    "name": "ipython",
    "version": 3
   },
   "file_extension": ".py",
   "mimetype": "text/x-python",
   "name": "python",
   "nbconvert_exporter": "python",
   "pygments_lexer": "ipython3",
   "version": "3.9.15"
  },
  "orig_nbformat": 4
 },
 "nbformat": 4,
 "nbformat_minor": 2
}
