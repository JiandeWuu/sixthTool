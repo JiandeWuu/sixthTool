{
 "cells": [
  {
   "cell_type": "code",
   "execution_count": 18,
   "metadata": {},
   "outputs": [
    {
     "name": "stdout",
     "output_type": "stream",
     "text": [
      "19\n"
     ]
    }
   ],
   "source": [
    "import numpy as np\n",
    "\n",
    "n = 2\n",
    "inventory = [3, 5]\n",
    "order = 6\n",
    "\n",
    "inventory = np.array(inventory)\n",
    "\n",
    "sum_profit = 0\n",
    "for i in range(max(inventory), 1, -1):\n",
    "    \n",
    "    count = sum(inventory >= i)\n",
    "    sum_profit += i * min(count, order)\n",
    "    order -= count\n",
    "    if order < 0:\n",
    "        break\n",
    "print(sum_profit)"
   ]
  }
 ],
 "metadata": {
  "interpreter": {
   "hash": "681206c3b8dadcd0ad9db9cda94afb40592645b096d359128b6de26b00c40796"
  },
  "kernelspec": {
   "display_name": "Python 3.6.13 ('jand_venv')",
   "language": "python",
   "name": "python3"
  },
  "language_info": {
   "codemirror_mode": {
    "name": "ipython",
    "version": 3
   },
   "file_extension": ".py",
   "mimetype": "text/x-python",
   "name": "python",
   "nbconvert_exporter": "python",
   "pygments_lexer": "ipython3",
   "version": "3.6.13"
  },
  "orig_nbformat": 4
 },
 "nbformat": 4,
 "nbformat_minor": 2
}
