{
 "cells": [
  {
   "cell_type": "code",
   "execution_count": 27,
   "metadata": {},
   "outputs": [],
   "source": [
    "import time\n",
    "import pickle\n",
    "\n",
    "import numpy as np\n",
    "import pandas as pd\n",
    "import matplotlib.pyplot as plt\n",
    "\n",
    "from sklearn.model_selection import train_test_split, cross_val_score\n",
    "from sklearn import datasets\n",
    "from sklearn import svm\n",
    "from sklearn.metrics import f1_score\n",
    "from sklearn import metrics\n",
    "\n",
    "from libsvm.svmutil import *"
   ]
  },
  {
   "cell_type": "code",
   "execution_count": 28,
   "metadata": {},
   "outputs": [],
   "source": [
    "data_x = np.load(\"data/linear_features/linear/k1p8nor3.npy\")\n",
    "data_y = np.load(\"data/linear_features/data_y.npy\")\n",
    "data_len = np.load(\"data/linear_features/data_len.npy\")"
   ]
  },
  {
   "cell_type": "code",
   "execution_count": 3,
   "metadata": {},
   "outputs": [
    {
     "data": {
      "text/plain": [
       "array([[-2.19668248e+02,  9.40386981e+02, -1.62594804e+03,\n",
       "         1.45552731e+03, -7.10638789e+02,  1.75014826e+02,\n",
       "        -1.58410534e+01,  1.74442281e+00, -7.74587535e-03],\n",
       "       [-1.81074111e+02,  7.69450225e+02, -1.32374822e+03,\n",
       "         1.18195569e+03, -5.75330654e+02,  1.39529950e+02,\n",
       "        -1.22435813e+01,  1.99919682e+00, -1.09691091e-02],\n",
       "       [ 2.82237092e+02, -1.19101915e+03,  2.02826060e+03,\n",
       "        -1.77893787e+03,  8.40374450e+02, -1.95729308e+02,\n",
       "         1.61783896e+01, -1.94652899e+00,  1.00902858e+00],\n",
       "       [ 9.16036127e+01, -4.11879641e+02,  7.51180387e+02,\n",
       "        -7.23228424e+02,  3.92605037e+02, -1.11054788e+02,\n",
       "         1.19320700e+01, -1.69162204e+00,  1.00893680e+00]])"
      ]
     },
     "execution_count": 3,
     "metadata": {},
     "output_type": "execute_result"
    }
   ],
   "source": [
    "data_x[0]"
   ]
  },
  {
   "cell_type": "code",
   "execution_count": 29,
   "metadata": {},
   "outputs": [
    {
     "name": "stdout",
     "output_type": "stream",
     "text": [
      "(2432, 36)\n"
     ]
    }
   ],
   "source": [
    "data_x = data_x.reshape(data_x.shape[0],-1)\n",
    "print(data_x.shape)"
   ]
  },
  {
   "cell_type": "code",
   "execution_count": 23,
   "metadata": {},
   "outputs": [],
   "source": [
    "data_x = np.append(data_x, np.array([data_len]).T, axis=1)"
   ]
  },
  {
   "cell_type": "code",
   "execution_count": 30,
   "metadata": {},
   "outputs": [],
   "source": [
    "x_train, x_test, y_train, y_test = train_test_split(data_x, data_y, test_size=0.20, shuffle=True, random_state=12)"
   ]
  },
  {
   "cell_type": "code",
   "execution_count": 25,
   "metadata": {},
   "outputs": [],
   "source": [
    "clf = svm.SVC(kernel='linear', C=1, class_weight='balanced').fit(x_train, y_train)\n",
    "score = clf.score(x_test, y_test)\n",
    "y_pred = clf.predict(x_test)\n",
    "print(\"score:\", score)\n",
    "print(\"macro:\", f1_score(y_test, y_pred, average='macro'))\n"
   ]
  },
  {
   "cell_type": "code",
   "execution_count": 6,
   "metadata": {},
   "outputs": [],
   "source": [
    "import pickle\n",
    "with open('data/linear_features/model/test_svm.pickle', 'wb') as f:\n",
    "    pickle.dump(clf, f)"
   ]
  },
  {
   "cell_type": "code",
   "execution_count": 25,
   "metadata": {},
   "outputs": [
    {
     "name": "stdout",
     "output_type": "stream",
     "text": [
      "macro: 0.4361008662835577\n"
     ]
    }
   ],
   "source": [
    "with open('data/linear_features/model/k1p8n3_svm.pickle', 'rb') as f:\n",
    "    clf2 = pickle.load(f)\n",
    "y_pred = clf2.predict(x_test)\n",
    "print(\"macro:\", f1_score(y_test, y_pred, average='macro'))"
   ]
  },
  {
   "cell_type": "code",
   "execution_count": 18,
   "metadata": {},
   "outputs": [
    {
     "data": {
      "text/plain": [
       "(array([0, 1]), array([ 147, 1798]))"
      ]
     },
     "execution_count": 18,
     "metadata": {},
     "output_type": "execute_result"
    }
   ],
   "source": [
    "np.unique(y_train, return_counts=True)"
   ]
  },
  {
   "cell_type": "code",
   "execution_count": 33,
   "metadata": {},
   "outputs": [
    {
     "name": "stdout",
     "output_type": "stream",
     "text": [
      "Accuracy = 52.5667% (256/487) (classification)\n",
      "macro: 0.41476394849785403\n",
      "[[0.04517454 0.03696099]\n",
      " [0.43737166 0.48049281]]\n"
     ]
    }
   ],
   "source": [
    "prob = svm_problem(y_train, x_train, isKernel=True)\n",
    "param = svm_parameter('-t 0 -w0 1798 -w1 147')\n",
    "m = svm_train(prob, param)\n",
    "p_label, p_acc, p_val = svm_predict(y_test, x_test, m)\n",
    "\n",
    "print(\"macro:\", f1_score(y_test, p_label, average='macro'))\n",
    "print(metrics.confusion_matrix(y_test, p_label) / len(y_test))"
   ]
  },
  {
   "cell_type": "code",
   "execution_count": 35,
   "metadata": {},
   "outputs": [
    {
     "name": "stdout",
     "output_type": "stream",
     "text": [
      "k=1, power=8, nor=3\n",
      "x_train (1945, 36)\n",
      "x_test (487, 36)\n",
      "y_test (array([0, 1]), array([ 40, 447]))\n",
      "score: 0.5934291581108829\n",
      "macro: 0.41476394849785403\n",
      "[[1.         8.         3.         0.59342916 0.41476395]]\n"
     ]
    }
   ],
   "source": [
    "import time\n",
    "\n",
    "import numpy as np\n",
    "import pandas as pd\n",
    "\n",
    "from Features.dle import dle\n",
    "\n",
    "from sklearn import svm\n",
    "from sklearn.metrics import f1_score\n",
    "from sklearn.model_selection import train_test_split, cross_val_score\n",
    "\n",
    "# k_array = [1]\n",
    "# power_array = [4]\n",
    "# nor_array = [0]\n",
    "\n",
    "k_array = [1]\n",
    "power_array = [8]\n",
    "nor_array = [3]\n",
    "output_array = [4, 5, 10]\n",
    "\n",
    "df = pd.read_csv(\"data/linear_features/cdhit80_data_seq_loc75_train.csv\")\n",
    "data_y = np.where(df[\"loc\"].to_numpy() == \"Cytosolic\", 1, 0)\n",
    "\n",
    "score_history = None\n",
    "\n",
    "for k in k_array:\n",
    "    for power in power_array:\n",
    "        for nor in nor_array:\n",
    "            print(\"k=%s, power=%s, nor=%s\" % (k, power, nor))\n",
    "            data_x, vocab = dle(df[\"Sequence\"], k=k, power=power, normalized=nor)\n",
    "            data_x = data_x.reshape(data_x.shape[0],-1)\n",
    "            \n",
    "            # np.save(\"data/linear_features/cdhit80_loc75_k\" + str(k) + \"_power\" + str(power) + \"_nor\" + str(nor) + \"_output\" + str(output), np.append(np.array([data_y]).T, data_x, axis=1))\n",
    "            \n",
    "            x_train, x_test, y_train, y_test = train_test_split(data_x, data_y, test_size=0.20, shuffle=True, random_state=12)\n",
    "\n",
    "            print(\"x_train\", x_train.shape)\n",
    "            print(\"x_test\", x_test.shape)\n",
    "            print(\"y_test\", np.unique(y_test, return_counts=True))\n",
    "\n",
    "            clf = svm.SVC(kernel='rbf', C=1, class_weight='balanced').fit(x_train, y_train)\n",
    "            \n",
    "            score = clf.score(x_test, y_test)\n",
    "            print(\"score:\", score)\n",
    "            macro = f1_score(y_test, p_label, average='macro')\n",
    "            print(\"macro:\", macro)\n",
    "            if score_history is None:\n",
    "                score_history = np.array([[k, power, nor, score, macro]])\n",
    "            else:\n",
    "                score_history = np.append(score_history, [[k, power, nor, score, macro]], axis=0)\n",
    "print(score_history)\n",
    "# np.save(\"data/linear_features/score_history/score_history\", score_history)\n"
   ]
  }
 ],
 "metadata": {
  "interpreter": {
   "hash": "681206c3b8dadcd0ad9db9cda94afb40592645b096d359128b6de26b00c40796"
  },
  "kernelspec": {
   "display_name": "Python 3.6.13 64-bit ('jand_venv': conda)",
   "language": "python",
   "name": "python3"
  },
  "language_info": {
   "codemirror_mode": {
    "name": "ipython",
    "version": 3
   },
   "file_extension": ".py",
   "mimetype": "text/x-python",
   "name": "python",
   "nbconvert_exporter": "python",
   "pygments_lexer": "ipython3",
   "version": "3.6.13"
  },
  "orig_nbformat": 4
 },
 "nbformat": 4,
 "nbformat_minor": 2
}
