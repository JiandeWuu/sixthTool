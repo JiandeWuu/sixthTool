{
 "cells": [
  {
   "cell_type": "code",
   "execution_count": 1,
   "metadata": {},
   "outputs": [],
   "source": [
    "from os import listdir\n",
    "from os.path import join\n",
    "from os.path import isfile"
   ]
  },
  {
   "cell_type": "code",
   "execution_count": 2,
   "metadata": {},
   "outputs": [],
   "source": [
    "s = \"\"\"\n",
    "    #!/bin/bash\n",
    "    #PBS -N %s\n",
    "    #PBS -l nodes=cn%s\n",
    "    #PBS -W sandbox=PRIVATE\n",
    "    #PBS -e localhost:/data/jand/sixthTool/log/%s__intron_log.e\n",
    "    #PBS -o localhost:/data/jand/sixthTool/log/%s__intron_log.o\n",
    "    module load app/anaconda3/2019.10/x86_64\n",
    "    source activate jand_venv_39\n",
    "    cd /data/jand/sixthTool\n",
    "    %s\"\"\""
   ]
  },
  {
   "cell_type": "code",
   "execution_count": 3,
   "metadata": {},
   "outputs": [
    {
     "ename": "NameError",
     "evalue": "name 'i' is not defined",
     "output_type": "error",
     "traceback": [
      "\u001b[0;31m---------------------------------------------------------------------------\u001b[0m",
      "\u001b[0;31mNameError\u001b[0m                                 Traceback (most recent call last)",
      "Cell \u001b[0;32mIn[3], line 16\u001b[0m\n\u001b[1;32m      1\u001b[0m cmd_line \u001b[39m=\u001b[39m \u001b[39m\"\"\"\u001b[39m\n\u001b[1;32m      2\u001b[0m \u001b[39m    python hpo_svm_train_optuna.py \u001b[39m\u001b[39m\\\u001b[39;00m\n\u001b[1;32m      3\u001b[0m \u001b[39m        -m esvm -f 10 -e 250 -t 1000 -j \u001b[39m\u001b[39m'\u001b[39m\u001b[39m-1\u001b[39m\u001b[39m'\u001b[39m\u001b[39m -fs True -n ensembl__merge_RBP_PWM\u001b[39m\u001b[39m\\\u001b[39;00m\n\u001b[0;32m   (...)\u001b[0m\n\u001b[1;32m      7\u001b[0m \u001b[39m        -storage data/RBP_eclip/output/ensembl__optuna.log\u001b[39m\n\u001b[1;32m      8\u001b[0m \u001b[39m\"\"\"\u001b[39m\n\u001b[1;32m      9\u001b[0m cmd_line \u001b[39m=\u001b[39m \u001b[39m\"\"\"\u001b[39m\n\u001b[1;32m     10\u001b[0m \u001b[39m        python hpo_svm_train_optuna.py \u001b[39m\u001b[39m\\\u001b[39;00m\n\u001b[1;32m     11\u001b[0m \u001b[39m            -m esvm -f 10 -e 250 -s 10 -t 1000 -j \u001b[39m\u001b[39m'\u001b[39m\u001b[39m-1\u001b[39m\u001b[39m'\u001b[39m\u001b[39m -n ensembl__merge_RBP_PWM\u001b[39m\u001b[39m\\\u001b[39;00m\n\u001b[1;32m     12\u001b[0m \u001b[39m            -i data/RBP_eclip/All/merge/ensembl__merge__RBPpred__RBPPWM_10-3_or.npy\u001b[39m\u001b[39m\\\u001b[39;00m\n\u001b[1;32m     13\u001b[0m \u001b[39m            -l data/RBP_eclip/All/merge/ensembl__y.npy\u001b[39m\u001b[39m\\\u001b[39;00m\n\u001b[1;32m     14\u001b[0m \u001b[39m            -o data/RBP_eclip/output/All___ensembl__merge__RBPpred__RBPPWM_10-3_or___esvm_s10_f10_e1000_t1000__cn\u001b[39m\u001b[39m%s\u001b[39;00m\u001b[39m\\\u001b[39;00m\n\u001b[1;32m     15\u001b[0m \u001b[39m            -storage data/RBP_eclip/output/ensembl__optuna.log\u001b[39m\n\u001b[0;32m---> 16\u001b[0m \u001b[39m    \u001b[39m\u001b[39m\"\"\"\u001b[39m \u001b[39m%\u001b[39m i\n",
      "\u001b[0;31mNameError\u001b[0m: name 'i' is not defined"
     ]
    }
   ],
   "source": [
    "cmd_line = \"\"\"\n",
    "    python hpo_svm_train_optuna.py \\\n",
    "        -m esvm -f 10 -e 250 -t 1000 -j '-1' -fs True -n ensembl__merge_RBP_PWM\\\n",
    "        -i data/RBP_eclip/All/merge/ensembl__merge__RBPpred__RBPPWM_10-3_or.npy\\\n",
    "        -l data/RBP_eclip/All/merge/ensembl__y.npy\\\n",
    "        -o data/RBP_eclip/output/feature_selection___ensembl__merge__RBPpred__RBPPWM_10-3_or___esvm_f10_e1000_t1000\\\n",
    "        -storage data/RBP_eclip/output/ensembl__optuna.log\n",
    "\"\"\"\n",
    "cmd_line = \"\"\"\n",
    "        python hpo_svm_train_optuna.py \\\n",
    "            -m esvm -f 10 -e 250 -s 10 -t 1000 -j '-1' -n ensembl__merge_RBP_PWM\\\n",
    "            -i data/RBP_eclip/All/merge/ensembl__merge__RBPpred__RBPPWM_10-3_or.npy\\\n",
    "            -l data/RBP_eclip/All/merge/ensembl__y.npy\\\n",
    "            -o data/RBP_eclip/output/All___ensembl__merge__RBPpred__RBPPWM_10-3_or___esvm_s10_f10_e1000_t1000__cn%s\\\n",
    "            -storage data/RBP_eclip/output/ensembl__optuna.log\n",
    "    \"\"\" % i"
   ]
  },
  {
   "cell_type": "code",
   "execution_count": 2,
   "metadata": {},
   "outputs": [],
   "source": [
    "for i in range(1, 5):\n",
    "    job_name = \"ensembl__merge_RBP_PWM10-3__e500000__fs-cn%s\" % i\n",
    "    \n",
    "    cmd_line = \"\"\"\n",
    "        python hpo_svm_train_optuna.py \\\n",
    "            -m esvm -f 10 -e 500000 -s 10 -t 1000 -j '-1' -fs True \\\n",
    "            -n ensembl__merge_RBP_PWM10-3__emax__fs\\\n",
    "            -i data/RBP_eclip/All/merge/ensembl__merge__RBPpred__RBPPWM_10-3_or.npy\\\n",
    "            -l data/RBP_eclip/All/merge/ensembl__y.npy\\\n",
    "            -o data/RBP_eclip/output/feature_selection___ensembl__merge__RBPpred__RBPPWM_10-3_or___esvm_s10_f10_e500000_t1000__fs__cn%s\\\n",
    "            -storage data/RBP_eclip/output/ensembl__optuna.log\n",
    "    \"\"\" % i\n",
    "    txt = \"\"\"\n",
    "        #!/bin/bash\n",
    "        #PBS -N %s\n",
    "        #PBS -l nodes=cn%s\n",
    "        #PBS -W sandbox=PRIVATE\n",
    "        #PBS -e localhost:/data/jand/sixthTool/log/%s__intron_log.e\n",
    "        #PBS -o localhost:/data/jand/sixthTool/log/%s__intron_log.o\n",
    "        module load app/anaconda3/2019.10/x86_64\n",
    "        source activate jand_venv_39\n",
    "        cd /data/jand/sixthTool\n",
    "        %s\"\"\" % (job_name, str(i), job_name, job_name, cmd_line)\n",
    "    with open(\"../pbs_sixtool/optuna_pbsfile/%s.pbs\" % job_name, \"w\") as f:\n",
    "        f.write(txt)"
   ]
  },
  {
   "cell_type": "markdown",
   "metadata": {},
   "source": [
    "## merge seq rbp, feature selection, TPESampler"
   ]
  },
  {
   "cell_type": "code",
   "execution_count": 10,
   "metadata": {},
   "outputs": [],
   "source": [
    "l = 4\n",
    "for i in range(1, 5):\n",
    "    job_name = \"ensembl__merge_RBP_PWM10-%s__tpe_sampler__fs-cn%s\" % (l, i)\n",
    "    \n",
    "    cmd_line = \"\"\"\n",
    "        python hpo_svm_train_optuna.py \\\n",
    "            -m esvm -f 10 -e 500000 -s 10 -t 1000 -j '-1' -fs True \\\n",
    "            -n ensembl__merge_RBP_PWM10-%s__TPESampler__fs\\\n",
    "            -i data/RBP_eclip/All/merge/ensembl__merge__RBPpred__RBPPWM_10-%s_or.npy\\\n",
    "            -l data/RBP_eclip/All/merge/ensembl__y.npy\\\n",
    "            -o data/RBP_eclip/output/feature_selection___ensembl__merge__RBPpred__RBPPWM_10-%s_or___esvm_s10_f10_e500000_t1000__fs__TPESampler__cn%s\\\n",
    "            -storage data/RBP_eclip/output/ensembl__optuna__TPESampler.log\n",
    "    \"\"\" % (l, l, l, i)\n",
    "    \n",
    "    txt = \"\"\"\n",
    "        #!/bin/bash\n",
    "        #PBS -N %s\n",
    "        #PBS -l nodes=cn%s\n",
    "        #PBS -W sandbox=PRIVATE\n",
    "        #PBS -e localhost:/data/jand/sixthTool/log/%s__intron_log.e\n",
    "        #PBS -o localhost:/data/jand/sixthTool/log/%s__intron_log.o\n",
    "        module load app/anaconda3/2019.10/x86_64\n",
    "        source activate jand_venv_39\n",
    "        cd /data/jand/sixthTool\n",
    "        %s\"\"\" % (job_name, str(i), job_name, job_name, cmd_line)\n",
    "    with open(\"../pbs_sixtool/optuna_pbsfile/%s.pbs\" % job_name, \"w\") as f:\n",
    "        f.write(txt)"
   ]
  },
  {
   "cell_type": "markdown",
   "metadata": {},
   "source": [
    "## merge seq rbp data, feature selection, CmaEsSampler"
   ]
  },
  {
   "cell_type": "code",
   "execution_count": 8,
   "metadata": {},
   "outputs": [],
   "source": [
    "l = 3\n",
    "for i in range(1, 5):\n",
    "    job_name = \"ensembl__merge_RBP_PWM10-%s__cma_es_sampler__fs-cn%s\" % (l, i)\n",
    "    \n",
    "    cmd_line = \"\"\"\n",
    "        python hpo_svm_train_optuna.py \\\n",
    "            -m esvm -f 10 -e 500000 -s 10 -t 1000 -j '-1' -fs True \\\n",
    "            -n ensembl__merge_RBP_PWM10-%s__CmaEsSampler__fs\\\n",
    "            -sampler CmaEsSampler\\\n",
    "            -i data/RBP_eclip/All/merge/ensembl__merge__RBPpred__RBPPWM_10-%s_or.npy\\\n",
    "            -l data/RBP_eclip/All/merge/ensembl__y.npy\\\n",
    "            -o data/RBP_eclip/output/feature_selection___ensembl__merge__RBPpred__RBPPWM_10-%s_or___esvm_s10_f10_e500000_t1000__fs__CmaEsSampler__cn%s\\\n",
    "            -storage data/RBP_eclip/output/ensembl__optuna__CmaEsSampler.log\n",
    "    \"\"\" % (l, l, l, i)\n",
    "    \n",
    "    txt = \"\"\"\n",
    "        #!/bin/bash\n",
    "        #PBS -N %s\n",
    "        #PBS -l nodes=cn%s\n",
    "        #PBS -W sandbox=PRIVATE\n",
    "        #PBS -e localhost:/data/jand/sixthTool/log/%s__intron_log.e\n",
    "        #PBS -o localhost:/data/jand/sixthTool/log/%s__intron_log.o\n",
    "        module load app/anaconda3/2019.10/x86_64\n",
    "        source activate jand_venv_39\n",
    "        cd /data/jand/sixthTool\n",
    "        %s\"\"\" % (job_name, str(i), job_name, job_name, cmd_line)\n",
    "    with open(\"../pbs_sixtool/optuna_pbsfile/%s.pbs\" % job_name, \"w\") as f:\n",
    "        f.write(txt)"
   ]
  },
  {
   "cell_type": "markdown",
   "metadata": {},
   "source": [
    "## merge seq rbp, feature selection, RandomSampler"
   ]
  },
  {
   "cell_type": "code",
   "execution_count": 12,
   "metadata": {},
   "outputs": [],
   "source": [
    "l = 3\n",
    "for i in range(1, 5):\n",
    "    job_name = \"ensembl__merge_RBP_PWM10-%s__random_sampler__fs-cn%s\" % (l, i)\n",
    "    \n",
    "    cmd_line = \"\"\"\n",
    "        python hpo_svm_train_optuna.py \\\n",
    "            -m esvm -f 10 -e 500000 -s 10 -t 1000 -j '-1' -fs True \\\n",
    "            -n ensembl__merge_RBP_PWM10-%s__RandomSampler__fs\\\n",
    "            -sampler RandomSampler\\\n",
    "            -i data/RBP_eclip/All/merge/ensembl__merge__RBPpred__RBPPWM_10-%s_or.npy\\\n",
    "            -l data/RBP_eclip/All/merge/ensembl__y.npy\\\n",
    "            -o data/RBP_eclip/output/feature_selection___ensembl__merge__RBPpred__RBPPWM_10-%s_or___esvm_s10_f10_e500000_t1000__fs__cn%s\\\n",
    "            -storage data/RBP_eclip/output/ensembl__optuna__RandomSampler.log\n",
    "    \"\"\" % (l, l, l, i)\n",
    "    \n",
    "    txt = \"\"\"\n",
    "        #!/bin/bash\n",
    "        #PBS -N %s\n",
    "        #PBS -l nodes=cn%s\n",
    "        #PBS -W sandbox=PRIVATE\n",
    "        #PBS -e localhost:/data/jand/sixthTool/log/%s__intron_log.e\n",
    "        #PBS -o localhost:/data/jand/sixthTool/log/%s__intron_log.o\n",
    "        module load app/anaconda3/2019.10/x86_64\n",
    "        source activate jand_venv_39\n",
    "        cd /data/jand/sixthTool\n",
    "        %s\"\"\" % (job_name, str(i), job_name, job_name, cmd_line)\n",
    "    with open(\"../pbs_sixtool/optuna_pbsfile/%s.pbs\" % job_name, \"w\") as f:\n",
    "        f.write(txt)"
   ]
  }
 ],
 "metadata": {
  "kernelspec": {
   "display_name": "jand_venv_39",
   "language": "python",
   "name": "python3"
  },
  "language_info": {
   "codemirror_mode": {
    "name": "ipython",
    "version": 3
   },
   "file_extension": ".py",
   "mimetype": "text/x-python",
   "name": "python",
   "nbconvert_exporter": "python",
   "pygments_lexer": "ipython3",
   "version": "3.9.15"
  },
  "orig_nbformat": 4
 },
 "nbformat": 4,
 "nbformat_minor": 2
}
