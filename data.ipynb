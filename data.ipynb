{
 "cells": [
  {
   "cell_type": "code",
   "execution_count": 21,
   "metadata": {},
   "outputs": [],
   "source": [
    "import numpy as np\n",
    "import pandas as pd"
   ]
  },
  {
   "cell_type": "code",
   "execution_count": 22,
   "metadata": {},
   "outputs": [
    {
     "name": "stderr",
     "output_type": "stream",
     "text": [
      "/Users/jiandewu/.pyenv/versions/3.9.6/envs/testvenv/lib/python3.9/site-packages/IPython/core/interactiveshell.py:3444: DtypeWarning: Columns (8) have mixed types.Specify dtype option on import or set low_memory=False.\n",
      "  exec(code_obj, self.user_global_ns, self.user_ns)\n"
     ]
    }
   ],
   "source": [
    "seq_df = pd.read_csv(\"data/society/All RNA sequence/human_RNA_sequence.txt\", sep=\"\\t\")\n",
    "rna_df = pd.read_csv(\"data/society/All RNA subcellular localization data.txt\", sep=\"\\t\")"
   ]
  },
  {
   "cell_type": "code",
   "execution_count": 40,
   "metadata": {},
   "outputs": [
    {
     "data": {
      "text/plain": [
       "Index(['Gene_ID', 'Refseq_ID', 'Sequence'], dtype='object')"
      ]
     },
     "execution_count": 40,
     "metadata": {},
     "output_type": "execute_result"
    }
   ],
   "source": [
    "seq_df.columns"
   ]
  },
  {
   "cell_type": "code",
   "execution_count": 41,
   "metadata": {},
   "outputs": [
    {
     "name": "stdout",
     "output_type": "stream",
     "text": [
      "           RNALocate_ID         Gene_ID   Gene_Name Gene_symbol RNA_category  \\\n",
      "27459     RLID:02000115  NCBI:100048912       ANRIL  CDKN2B-AS1       lncRNA   \n",
      "27460     RLID:02000116  NCBI:100048912       ANRIL  CDKN2B-AS1       lncRNA   \n",
      "27461     RLID:02000117  NCBI:100048912    CDKN2BAS  CDKN2B-AS1       lncRNA   \n",
      "27462     RLID:02000118  NCBI:100048912  CDKN2B-AS1  CDKN2B-AS1       lncRNA   \n",
      "27464     RLID:02000120  NCBI:100048912  CDKN2B-AS1  CDKN2B-AS1       lncRNA   \n",
      "...                 ...             ...         ...         ...          ...   \n",
      "113027  RLID-D:12006373       NCBI:9597   SMAD5-AS1   SMAD5-AS1       lncRNA   \n",
      "113028  RLID-D:12006374      NCBI:96597     TBC1D27     TBC1D27       lncRNA   \n",
      "113029  RLID-D:12006375      NCBI:96610     BMS1P20     BMS1P20       lncRNA   \n",
      "113030  RLID-D:12006376       NCBI:9808    KIAA0087    KIAA0087       lncRNA   \n",
      "113031  RLID-D:12006377       NCBI:9834    KIAA0125    KIAA0125       lncRNA   \n",
      "\n",
      "             Species        PMID SubCellular_Localization  \\\n",
      "27459   Homo sapiens  31572679.0                Cytoplasm   \n",
      "27460   Homo sapiens  32141564.0                Cytoplasm   \n",
      "27461   Homo sapiens  32572907.0                Cytoplasm   \n",
      "27462   Homo sapiens  26937624.0                Cytoplasm   \n",
      "27464   Homo sapiens  30926762.0                  Nucleus   \n",
      "...              ...         ...                      ...   \n",
      "113027  Homo sapiens         NaN                  Exosome   \n",
      "113028  Homo sapiens         NaN                  Exosome   \n",
      "113029  Homo sapiens         NaN                  Exosome   \n",
      "113030  Homo sapiens         NaN                  Exosome   \n",
      "113031  Homo sapiens         NaN                  Exosome   \n",
      "\n",
      "                                              Description  \n",
      "27459   The RNAscope assay revealed different cellular...  \n",
      "27460   According to RNA-fluorescence in situ hybridiz...  \n",
      "27461   It is uncovered that CDKN2BAS was mainly distr...  \n",
      "27462   Cellular location of lncRNAs in intestinal epi...  \n",
      "27464   The cellular localization of CDKN2B-AS1 as det...  \n",
      "...                                                   ...  \n",
      "113027                                                NaN  \n",
      "113028                                                NaN  \n",
      "113029                                                NaN  \n",
      "113030                                                NaN  \n",
      "113031                                                NaN  \n",
      "\n",
      "[9210 rows x 9 columns]\n"
     ]
    }
   ],
   "source": [
    "sub_df = rna_df[rna_df['RNA_category'].isin(['antisense RNA', 'lncRNA', 'lincRNA'])]\n",
    "sub_df = sub_df[sub_df['Species'] == 'Homo sapiens']\n",
    "print(sub_df)"
   ]
  },
  {
   "cell_type": "markdown",
   "metadata": {},
   "source": [
    "## Seq\n",
    "\n",
    "### Col\n",
    "\n",
    "['Gene_ID', 'Refseq_ID', 'Sequence']"
   ]
  },
  {
   "cell_type": "markdown",
   "metadata": {},
   "source": [
    "## ALL RNA\n",
    "\n",
    "### Col\n",
    "\n",
    "['RNALocate_ID', 'Gene_ID', 'Gene_Name', 'Gene_symbol', 'RNA_category', 'Species', 'PMID', 'SubCellular_Localization', 'Description']\n",
    "\n",
    "### 'RNA_category' in 'antisense RNA', 'lncRNA', 'lincRNA' and 'Species' == 'Homo sapiens'\n",
    "\n",
    "`count()`\n",
    "```txt\n",
    "9210\n",
    "```\n",
    "\n",
    "`SubCellular_Localization unique()`\n",
    "```txt\n",
    "['Cytoplasm', 'Nucleus', 'Ribosome-free cytosol', 'Cytosol',\n",
    "'Ribosome', 'Chromatin', 'Nucleoplasm', 'Nuclear',\n",
    "'Nuclear periphery', 'Nucleolus', 'Paraspeckles in the nucleus',\n",
    "'Endoplasmic reticulum', 'Periphery of the nucleus', 'Paraspeckle',\n",
    "'Mitochondrion', 'Nuclear speckle', 'Microsome', 'Perinuclear',\n",
    "'Nuclear membrane', 'Nuclear(exclusion from nucleoli)', 'Exosome',\n",
    "'Soma', 'Speckle periphery', 'Insoluble cytoplasm', 'Membrane']\n",
    "```\n",
    "\n",
    "`SubCellular_Localization value_counts()`\n",
    "```txt\n",
    "Exosome                             6412\n",
    "Nucleus                              865\n",
    "Nucleoplasm                          437\n",
    "Chromatin                            416\n",
    "Nucleolus                            295\n",
    "Cytosol                              289\n",
    "Cytoplasm                            231\n",
    "Membrane                             135\n",
    "Insoluble cytoplasm                   47\n",
    "Ribosome                              34\n",
    "Ribosome-free cytosol                 16\n",
    "Nuclear                                7\n",
    "Mitochondrion                          5\n",
    "Nuclear speckle                        5\n",
    "Paraspeckle                            4\n",
    "Paraspeckles in the nucleus            2\n",
    "Endoplasmic reticulum                  2\n",
    "Nuclear periphery                      1\n",
    "Speckle periphery                      1\n",
    "Soma                                   1\n",
    "Microsome                              1\n",
    "Nuclear(exclusion from nucleoli)       1\n",
    "Nuclear membrane                       1\n",
    "Perinuclear                            1\n",
    "Periphery of the nucleus               1\n",
    "Name: SubCellular_Localization, dtype: int64\n",
    "```\n",
    "\n",
    "`'Gene_ID', 'SubCellular_Localization' value_counts()value_counts()`\n",
    "```\n",
    "1     8728\n",
    "2       76\n",
    "3       15\n",
    "4        8\n",
    "5        6\n",
    "21       1\n",
    "11       1\n",
    "10       1\n",
    "9        1\n",
    "7        1\n",
    "dtype: int64\n",
    "```"
   ]
  },
  {
   "cell_type": "markdown",
   "metadata": {},
   "source": [
    "# problem\n",
    "\n",
    "- All RNA subcellular localization data.txt / SubCellular_Localization 對應類別\n",
    "```txt\n",
    "Exosome                             6412    Cytosolic\n",
    "Nucleus                              865    Nucleus\n",
    "Nucleoplasm                          437    Nucleus\n",
    "Chromatin                            416    Nucleus\n",
    "Nucleolus                            295    Nucleus\n",
    "Cytosol                              289    Cytosolic\n",
    "Cytoplasm                            231    Cytosolic\n",
    "Membrane                             135    Cytosolic\n",
    "Insoluble cytoplasm                   47    Cytosolic\n",
    "Ribosome                              34    Cytosolic\n",
    "Ribosome-free cytosol                 16    Cytosolic\n",
    "Nuclear                                7    Nucleus\n",
    "Mitochondrion                          5    Cytosolic\n",
    "Nuclear speckle                        5    Nucleus\n",
    "Paraspeckle                            4    Nucleus\n",
    "Paraspeckles in the nucleus            2    Nucleus\n",
    "Endoplasmic reticulum                  2    Cytosolic\n",
    "Nuclear periphery                      1    Nucleus\n",
    "Speckle periphery                      1    Nucleus\n",
    "Soma                                   1\n",
    "Microsome                              1    Cytosolic\n",
    "Nuclear(exclusion from nucleoli)       1    Nucleus\n",
    "Nuclear membrane                       1    Nucleus\n",
    "Perinuclear                            1    Nucleus\n",
    "Periphery of the nucleus               1    Nucleus\n",
    "Name: SubCellular_Localization, dtype: int64\n",
    "```\n",
    "\n",
    "照上面的規則取代後 count\n",
    "```txt\n",
    "Cytosolic    7172\n",
    "Nucleus      2037\n",
    "Soma            1\n",
    "```\n",
    "\n",
    "Gene_ID 的 SubCellular_Localization 數量\n",
    "```txt\n",
    "1    5675\n",
    "2     881\n",
    "3       1\n",
    "```\n",
    "\n",
    "- All RNA subcellular localization data.txt 與 human_RNA_sequence.txt 對應"
   ]
  },
  {
   "cell_type": "code",
   "execution_count": 50,
   "metadata": {},
   "outputs": [
    {
     "name": "stdout",
     "output_type": "stream",
     "text": [
      "Cytosolic    7172\n",
      "Nucleus      2037\n",
      "Soma            1\n",
      "Name: SubCellular_Localization, dtype: int64\n"
     ]
    }
   ],
   "source": [
    "# Cytosol,Cytoplasm,Ribosome,Exosome\n",
    "# Nuclear,Nucleus\n",
    "cytosolic = ['Exosome', 'Cytosol', 'Cytoplasm', 'Membrane', 'Insoluble cytoplasm', 'Ribosome', 'Ribosome-free cytosol', 'Mitochondrion', 'Endoplasmic reticulum', 'Microsome']\n",
    "nucleus = ['Nucleus', 'Nucleoplasm', 'Chromatin', 'Nucleolus', 'Nuclear', 'Nuclear speckle', 'Paraspeckle', 'Paraspeckles in the nucleus', 'Nuclear periphery', 'Speckle periphery', 'Nuclear(exclusion from nucleoli)', 'Nuclear membrane', 'Perinuclear', 'Periphery of the nucleus']\n",
    "\n",
    "sub_df['SubCellular_Localization'] = sub_df['SubCellular_Localization'].replace(cytosolic, 'Cytosolic')\n",
    "sub_df['SubCellular_Localization'] = sub_df['SubCellular_Localization'].replace(nucleus, 'Nucleus')\n",
    "print(sub_df['SubCellular_Localization'].value_counts())\n"
   ]
  },
  {
   "cell_type": "code",
   "execution_count": 58,
   "metadata": {},
   "outputs": [
    {
     "name": "stdout",
     "output_type": "stream",
     "text": [
      "1    5675\n",
      "2     881\n",
      "3       1\n",
      "Name: Gene_ID, dtype: int64\n"
     ]
    }
   ],
   "source": [
    "print(sub_df.drop_duplicates(['Gene_ID', 'SubCellular_Localization'])['Gene_ID'].value_counts().value_counts())\n",
    "# value_count = sub_df[['Gene_ID', 'SubCellular_Localization']].value_counts()\n",
    "# print(value_count)\n",
    "# print(value_count.value_counts())\n"
   ]
  },
  {
   "cell_type": "code",
   "execution_count": 63,
   "metadata": {},
   "outputs": [
    {
     "name": "stdout",
     "output_type": "stream",
     "text": [
      "RNALocate_ID                9210\n",
      "Gene_ID                     9045\n",
      "Gene_Name                   9210\n",
      "Gene_symbol                 9062\n",
      "RNA_category                9210\n",
      "Species                     9210\n",
      "PMID                         690\n",
      "SubCellular_Localization    9210\n",
      "Description                  690\n",
      "dtype: int64\n",
      "RNALocate_ID                5840\n",
      "Gene_ID                     5840\n",
      "Gene_Name                   5840\n",
      "Gene_symbol                 5840\n",
      "RNA_category                5840\n",
      "Species                     5840\n",
      "PMID                         443\n",
      "SubCellular_Localization    5840\n",
      "Description                  443\n",
      "dtype: int64\n"
     ]
    }
   ],
   "source": [
    "print(sub_df.count())\n",
    "print(sub_df[sub_df['Gene_ID'].isin(seq_df['Gene_ID'])].count())\n",
    "sub_has_seq_df = sub_df[sub_df['Gene_ID'].isin(seq_df['Gene_ID'])]"
   ]
  },
  {
   "cell_type": "code",
   "execution_count": null,
   "metadata": {},
   "outputs": [],
   "source": [
    "print(sub_has_seq_df)"
   ]
  }
 ],
 "metadata": {
  "interpreter": {
   "hash": "911519d9d2a6bb910d202bb6a963e5f76f777f159da93d44a4a099157dae11b7"
  },
  "kernelspec": {
   "display_name": "Python 3.9.6 64-bit ('testvenv': pyenv)",
   "name": "python3"
  },
  "language_info": {
   "codemirror_mode": {
    "name": "ipython",
    "version": 3
   },
   "file_extension": ".py",
   "mimetype": "text/x-python",
   "name": "python",
   "nbconvert_exporter": "python",
   "pygments_lexer": "ipython3",
   "version": "3.9.6"
  },
  "orig_nbformat": 4
 },
 "nbformat": 4,
 "nbformat_minor": 2
}
