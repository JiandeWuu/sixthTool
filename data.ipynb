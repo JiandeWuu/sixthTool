{
 "cells": [
  {
   "cell_type": "code",
   "execution_count": 9,
   "metadata": {},
   "outputs": [],
   "source": [
    "import numpy as np\n",
    "import pandas as pd"
   ]
  },
  {
   "cell_type": "code",
   "execution_count": 3,
   "metadata": {},
   "outputs": [
    {
     "name": "stderr",
     "output_type": "stream",
     "text": [
      "/opt/anaconda3/lib/python3.8/site-packages/IPython/core/interactiveshell.py:3165: DtypeWarning: Columns (8) have mixed types.Specify dtype option on import or set low_memory=False.\n",
      "  has_raised = await self.run_ast_nodes(code_ast.body, cell_name,\n"
     ]
    }
   ],
   "source": [
    "seq_df = pd.read_csv(\"data/society/All RNA sequence/human_RNA_sequence.txt\", sep=\"\\t\")\n",
    "rna_df = pd.read_csv(\"data/society/All RNA subcellular localization data.txt\", sep=\"\\t\")"
   ]
  },
  {
   "cell_type": "code",
   "execution_count": 3,
   "metadata": {},
   "outputs": [
    {
     "name": "stdout",
     "output_type": "stream",
     "text": [
      "     Gene_ID       Refseq_ID  \\\n",
      "0  NCBI:1305  NM_001368885.1   \n",
      "\n",
      "                                            Sequence  \n",
      "0  ATCCGATCCGTGCCGCCGCAGGGAGTGTGTCAAGTTACAGAGGCGC...  \n"
     ]
    }
   ],
   "source": [
    "# seq to fasta\n",
    "print(seq_df.head(1))\n",
    "with open(\"data/society/human_RNA_sequence.fasta\", 'w') as out:\n",
    "    for i in range(len(seq_df)):\n",
    "        out.write('>' + seq_df['Gene_ID'][i] + '|' + seq_df['Refseq_ID'][i] + '\\n' + seq_df['Sequence'][i] + '\\n')"
   ]
  },
  {
   "cell_type": "code",
   "execution_count": 21,
   "metadata": {},
   "outputs": [],
   "source": [
    "sub_df = rna_df[rna_df['RNA_category'].isin(['antisense RNA', 'lncRNA', 'lincRNA'])]\n",
    "sub_df = sub_df[sub_df['Species'] == 'Homo sapiens']"
   ]
  },
  {
   "cell_type": "markdown",
   "metadata": {},
   "source": [
    "## Seq\n",
    "\n",
    "### Col\n",
    "\n",
    "['Gene_ID', 'Refseq_ID', 'Sequence']"
   ]
  },
  {
   "cell_type": "markdown",
   "metadata": {},
   "source": [
    "## ALL RNA\n",
    "\n",
    "### Col\n",
    "\n",
    "['RNALocate_ID', 'Gene_ID', 'Gene_Name', 'Gene_symbol', 'RNA_category', 'Species', 'PMID', 'SubCellular_Localization', 'Description']\n",
    "\n",
    "### 'RNA_category' in 'antisense RNA', 'lncRNA', 'lincRNA' and 'Species' == 'Homo sapiens'\n",
    "\n",
    "`count()`\n",
    "```txt\n",
    "9210\n",
    "```\n",
    "\n",
    "`SubCellular_Localization unique()`\n",
    "```txt\n",
    "['Cytoplasm', 'Nucleus', 'Ribosome-free cytosol', 'Cytosol',\n",
    "'Ribosome', 'Chromatin', 'Nucleoplasm', 'Nuclear',\n",
    "'Nuclear periphery', 'Nucleolus', 'Paraspeckles in the nucleus',\n",
    "'Endoplasmic reticulum', 'Periphery of the nucleus', 'Paraspeckle',\n",
    "'Mitochondrion', 'Nuclear speckle', 'Microsome', 'Perinuclear',\n",
    "'Nuclear membrane', 'Nuclear(exclusion from nucleoli)', 'Exosome',\n",
    "'Soma', 'Speckle periphery', 'Insoluble cytoplasm', 'Membrane']\n",
    "```\n",
    "\n",
    "`SubCellular_Localization value_counts()`\n",
    "```txt\n",
    "Exosome                             6412\n",
    "Nucleus                              865\n",
    "Nucleoplasm                          437\n",
    "Chromatin                            416\n",
    "Nucleolus                            295\n",
    "Cytosol                              289\n",
    "Cytoplasm                            231\n",
    "Membrane                             135\n",
    "Insoluble cytoplasm                   47\n",
    "Ribosome                              34\n",
    "Ribosome-free cytosol                 16\n",
    "Nuclear                                7\n",
    "Mitochondrion                          5\n",
    "Nuclear speckle                        5\n",
    "Paraspeckle                            4\n",
    "Paraspeckles in the nucleus            2\n",
    "Endoplasmic reticulum                  2\n",
    "Nuclear periphery                      1\n",
    "Speckle periphery                      1\n",
    "Soma                                   1\n",
    "Microsome                              1\n",
    "Nuclear(exclusion from nucleoli)       1\n",
    "Nuclear membrane                       1\n",
    "Perinuclear                            1\n",
    "Periphery of the nucleus               1\n",
    "Name: SubCellular_Localization, dtype: int64\n",
    "```\n",
    "\n",
    "`'Gene_ID', 'SubCellular_Localization' value_counts()value_counts()`\n",
    "```\n",
    "1     8728\n",
    "2       76\n",
    "3       15\n",
    "4        8\n",
    "5        6\n",
    "21       1\n",
    "11       1\n",
    "10       1\n",
    "9        1\n",
    "7        1\n",
    "dtype: int64\n",
    "```"
   ]
  },
  {
   "cell_type": "markdown",
   "metadata": {},
   "source": [
    "# problem\n",
    "\n",
    "- All RNA subcellular localization data.txt / SubCellular_Localization 對應類別\n",
    "```txt\n",
    "Exosome                             6412    Cytosolic\n",
    "Nucleus                              865    Nucleus\n",
    "Nucleoplasm                          437    Nucleus\n",
    "Chromatin                            416    Nucleus\n",
    "Nucleolus                            295    Nucleus\n",
    "Cytosol                              289    Cytosolic\n",
    "Cytoplasm                            231    Cytosolic\n",
    "Membrane                             135    Cytosolic\n",
    "Insoluble cytoplasm                   47    Cytosolic\n",
    "Ribosome                              34    Cytosolic\n",
    "Ribosome-free cytosol                 16    Cytosolic\n",
    "Nuclear                                7    Nucleus\n",
    "Mitochondrion                          5    Cytosolic\n",
    "Nuclear speckle                        5    Nucleus\n",
    "Paraspeckle                            4    Nucleus\n",
    "Paraspeckles in the nucleus            2    Nucleus\n",
    "Endoplasmic reticulum                  2    Cytosolic\n",
    "Nuclear periphery                      1    Nucleus\n",
    "Speckle periphery                      1    Nucleus\n",
    "Soma                                   1\n",
    "Microsome                              1    Cytosolic\n",
    "Nuclear(exclusion from nucleoli)       1    Nucleus\n",
    "Nuclear membrane                       1    Nucleus\n",
    "Perinuclear                            1    Nucleus\n",
    "Periphery of the nucleus               1    Nucleus\n",
    "Name: SubCellular_Localization, dtype: int64\n",
    "```\n",
    "\n",
    "照上面的規則取代後 count\n",
    "```txt\n",
    "Cytosolic    7172\n",
    "Nucleus      2037\n",
    "Soma            1\n",
    "```\n",
    "\n",
    "Gene_ID 的 SubCellular_Localization 數量\n",
    "```txt\n",
    "1    5675\n",
    "2     881\n",
    "3       1\n",
    "```\n",
    "\n",
    "- All RNA subcellular localization data.txt 與 human_RNA_sequence.txt 對應"
   ]
  },
  {
   "cell_type": "code",
   "execution_count": 5,
   "metadata": {},
   "outputs": [
    {
     "name": "stdout",
     "output_type": "stream",
     "text": [
      "Cytosolic    7172\n",
      "Nucleus      2037\n",
      "Soma            1\n",
      "Name: SubCellular_Localization, dtype: int64\n"
     ]
    }
   ],
   "source": [
    "# Cytosol,Cytoplasm,Ribosome,Exosome\n",
    "# Nuclear,Nucleus\n",
    "cytosolic = ['Exosome', 'Cytosol', 'Cytoplasm', 'Membrane', 'Insoluble cytoplasm', 'Ribosome', 'Ribosome-free cytosol', 'Mitochondrion', 'Endoplasmic reticulum', 'Microsome']\n",
    "nucleus = ['Nucleus', 'Nucleoplasm', 'Chromatin', 'Nucleolus', 'Nuclear', 'Nuclear speckle', 'Paraspeckle', 'Paraspeckles in the nucleus', 'Nuclear periphery', 'Speckle periphery', 'Nuclear(exclusion from nucleoli)', 'Nuclear membrane', 'Perinuclear', 'Periphery of the nucleus']\n",
    "\n",
    "sub_df['SubCellular_Localization'] = sub_df['SubCellular_Localization'].replace(cytosolic, 'Cytosolic')\n",
    "sub_df['SubCellular_Localization'] = sub_df['SubCellular_Localization'].replace(nucleus, 'Nucleus')\n",
    "print(sub_df['SubCellular_Localization'].value_counts())\n"
   ]
  },
  {
   "cell_type": "code",
   "execution_count": 58,
   "metadata": {},
   "outputs": [
    {
     "name": "stdout",
     "output_type": "stream",
     "text": [
      "1    5675\n",
      "2     881\n",
      "3       1\n",
      "Name: Gene_ID, dtype: int64\n"
     ]
    }
   ],
   "source": [
    "print(sub_df.drop_duplicates(['Gene_ID', 'SubCellular_Localization'])['Gene_ID'].value_counts().value_counts())\n",
    "# value_count = sub_df[['Gene_ID', 'SubCellular_Localization']].value_counts()\n",
    "# print(value_count)\n",
    "# print(value_count.value_counts())\n"
   ]
  },
  {
   "cell_type": "code",
   "execution_count": 6,
   "metadata": {},
   "outputs": [
    {
     "name": "stdout",
     "output_type": "stream",
     "text": [
      "RNALocate_ID                9210\n",
      "Gene_ID                     9045\n",
      "Gene_Name                   9210\n",
      "Gene_symbol                 9062\n",
      "RNA_category                9210\n",
      "Species                     9210\n",
      "PMID                         690\n",
      "SubCellular_Localization    9210\n",
      "Description                  690\n",
      "dtype: int64\n",
      "RNALocate_ID                5840\n",
      "Gene_ID                     5840\n",
      "Gene_Name                   5840\n",
      "Gene_symbol                 5840\n",
      "RNA_category                5840\n",
      "Species                     5840\n",
      "PMID                         443\n",
      "SubCellular_Localization    5840\n",
      "Description                  443\n",
      "dtype: int64\n"
     ]
    }
   ],
   "source": [
    "print(sub_df.count())\n",
    "print(sub_df[sub_df['Gene_ID'].isin(seq_df['Gene_ID'])].count())\n",
    "sub_has_seq_df = sub_df[sub_df['Gene_ID'].isin(seq_df['Gene_ID'])]"
   ]
  },
  {
   "cell_type": "code",
   "execution_count": 2,
   "metadata": {},
   "outputs": [],
   "source": [
    "import re\n",
    "with open(\"data/society/human_RNA_sequence_sub_cdhit80.clstr\") as f:\n",
    "    arrays = f.read().split(\">Cluster\")\n",
    "    cluster_array = []\n",
    "    for cluster in arrays[1:]:\n",
    "        cluster_dict = dict()\n",
    "        cluster_dict[\"other\"] = []\n",
    "        for row in cluster.split(\"\\n\")[1:-1]:\n",
    "            if \"*\" in row:\n",
    "                cluster_dict[\"main\"] = row[row.index(\"|\")+1:row.index(\"...\")]\n",
    "            cluster_dict[\"other\"].append(row[row.index(\">\")+1:row.index(\"|\")])\n",
    "        cluster_array.append(cluster_dict)"
   ]
  },
  {
   "cell_type": "code",
   "execution_count": 9,
   "metadata": {},
   "outputs": [
    {
     "name": "stdout",
     "output_type": "stream",
     "text": [
      "3980\n",
      "3980\n",
      "                0               1  \\\n",
      "0     NCBI:285758     NR_038863.2   \n",
      "1  NCBI:100128640     NR_028389.1   \n",
      "2  NCBI:101929484     NR_132623.1   \n",
      "3  NCBI:101929484     NR_132622.1   \n",
      "4  NCBI:100874363     NR_047504.1   \n",
      "5     NCBI:643862  NM_001382504.1   \n",
      "6       NCBI:2681     NR_168460.1   \n",
      "7  NCBI:100505475     NR_120501.1   \n",
      "8  NCBI:101929639     NR_108108.1   \n",
      "9  NCBI:100630918     NR_038942.1   \n",
      "\n",
      "                                                   2  \n",
      "0  AGCTGCCGAGTGAGAAGTCTGACTATCCGGAGATGGCGGTGAGTAT...  \n",
      "1  GCTACACTTAGTGACTCTGAGGGACATGCAACCCTCCCCGCATGCT...  \n",
      "2  TCCGGGCGGAGAACAACAAGGTCTATTGGTCTATGTAATGCTGGTG...  \n",
      "3  CCTGGCCGTGGGGTCAGCTGCACAGGCCAGGAGCTCGAGGGTGGTG...  \n",
      "4  GGCTTTTTTTTCCTTGCCTTCTTTTCCCCCTCTCCCACCCCCTTCT...  \n",
      "5  CTCCCGGGGCCCGAAGTTGTTTTCCGAGGCGCGGCGGCGAGGACAG...  \n",
      "6  ACCCGCTGCGCTCTGCCCAGAGCAGAAGCCCGGCCGGCCGGCCCAC...  \n",
      "7  AAAACCACACAGAGGAGAGCTAATCGGGGAGATAACTATTTGCTGT...  \n",
      "8  GTTCGAAACCCCCTCCCTAACTCAGCCCGGCTGGACCCCGCTGCTT...  \n",
      "9  TGTGGGAGAAAAAGCGACTGGGGCTTGCTGGACCCGCTCCCCTGTG...  \n"
     ]
    }
   ],
   "source": [
    "import csv\n",
    "\n",
    "print(len(cluster_array))\n",
    "with open(\"data/society/human_RNA_sequence_sub_cdhit80\") as f:\n",
    "    array = f.read().split(\">\")\n",
    "    cdhit80_array = []\n",
    "    for row in array:\n",
    "        cdhit80_array.append(row.replace(\"\\n\", \"|\").split(\"|\")[:-1])\n",
    "    cdhit80_array = cdhit80_array[1:]\n",
    "cdhit80_df = pd.DataFrame(cdhit80_array)\n",
    "print(len(cdhit80_df))\n",
    "print(cdhit80_df.head(10))\n"
   ]
  },
  {
   "cell_type": "code",
   "execution_count": 81,
   "metadata": {},
   "outputs": [
    {
     "name": "stdout",
     "output_type": "stream",
     "text": [
      "Gene_ID      5660\n",
      "Refseq_ID    5660\n",
      "Sequence     5660\n",
      "dtype: int64\n",
      "Gene_ID                     5839\n",
      "SubCellular_Localization    5839\n",
      "dtype: int64\n",
      "Gene_ID                     11674\n",
      "Refseq_ID                   11674\n",
      "Sequence                    11674\n",
      "SubCellular_Localization    11674\n",
      "dtype: int64\n"
     ]
    }
   ],
   "source": [
    "sub_seq_df = seq_df[seq_df['Gene_ID'].isin(sub_df['Gene_ID'])]\n",
    "print(sub_seq_df.count())\n",
    "sub_loc_df = sub_df[sub_df['Gene_ID'].isin(sub_seq_df['Gene_ID']) & (sub_df[\"SubCellular_Localization\"].isin([\"Cytosolic\", \"Nucleus\"]))]\n",
    "sub_loc_df = sub_loc_df[[\"Gene_ID\", \"SubCellular_Localization\"]]\n",
    "print(sub_loc_df.count())\n",
    "merge_df = pd.merge(sub_seq_df, sub_loc_df, on=[\"Gene_ID\"], how=\"inner\")\n",
    "print(merge_df.count())\n",
    "\n",
    "for cluster_dict in cluster_array:\n",
    "    merge_df.loc[merge_df[\"Refseq_ID\"].isin(cluster_dict[\"other\"]), [\"Refseq_ID\"]] = cluster_dict[\"main\"]\n",
    "# print(merge_df.head(5))\n",
    "# print(len(merge_df[\"Refseq_ID\"].unique()))"
   ]
  },
  {
   "cell_type": "code",
   "execution_count": 83,
   "metadata": {},
   "outputs": [
    {
     "name": "stdout",
     "output_type": "stream",
     "text": [
      "3980\n",
      "3980\n"
     ]
    }
   ],
   "source": [
    "print(len(merge_df[\"Refseq_ID\"].unique()))\n",
    "print(len(cdhit80_df))"
   ]
  },
  {
   "cell_type": "code",
   "execution_count": 156,
   "metadata": {},
   "outputs": [
    {
     "name": "stdout",
     "output_type": "stream",
     "text": [
      "     Refseq_ID  Cytosolic   Nucleus\n",
      "0  NR_002728.3   0.300000  0.700000\n",
      "1  NR_003255.2   0.250000  0.750000\n",
      "2  NM_173600.2   0.200000  0.800000\n",
      "3  NR_170290.1   0.333333  0.666667\n",
      "4  NR_131012.1   0.181818  0.818182\n"
     ]
    }
   ],
   "source": [
    "col_array = [\"Refseq_ID\", \"Cytosolic\", \"Nucleus\"]\n",
    "data = pd.DataFrame([], columns=col_array)\n",
    "for cluster_dict in cluster_array:\n",
    "    row = {\"Refseq_ID\": cluster_dict['main'],\n",
    "            \"Cytosolic\": len(sub_loc_df[sub_loc_df[\"Gene_ID\"].isin(cluster_dict[\"other\"]) & (sub_loc_df[\"SubCellular_Localization\"] == \"Cytosolic\")]) / len(sub_loc_df[sub_loc_df[\"Gene_ID\"].isin(cluster_dict[\"other\"])]),\n",
    "            \"Nucleus\": len(sub_loc_df[sub_loc_df[\"Gene_ID\"].isin(cluster_dict[\"other\"]) & (sub_loc_df[\"SubCellular_Localization\"] == \"Nucleus\")]) / len(sub_loc_df[sub_loc_df[\"Gene_ID\"].isin(cluster_dict[\"other\"])])}\n",
    "    \n",
    "    data = data.append(row, ignore_index=True)\n",
    "print(data.head(5))"
   ]
  },
  {
   "cell_type": "code",
   "execution_count": 157,
   "metadata": {},
   "outputs": [
    {
     "name": "stdout",
     "output_type": "stream",
     "text": [
      "Refseq_ID    3980\n",
      "Cytosolic    3980\n",
      "Nucleus      3980\n",
      "dtype: int64\n",
      "3980\n"
     ]
    }
   ],
   "source": [
    "print(data.count())\n",
    "print(len(data['Refseq_ID'].unique()))\n"
   ]
  },
  {
   "cell_type": "code",
   "execution_count": null,
   "metadata": {},
   "outputs": [
    {
     "name": "stdout",
     "output_type": "stream",
     "text": [
      "          Gene_ID    Refseq_ID  \\\n",
      "0     NCBI:285758  NR_038863.2   \n",
      "1  NCBI:100128640  NR_028389.1   \n",
      "2  NCBI:101929484  NR_132623.1   \n",
      "3  NCBI:101929484  NR_132622.1   \n",
      "4  NCBI:100874363  NR_047504.1   \n",
      "\n",
      "                                            Sequence SubCellular_Localization  \\\n",
      "0  AGCTGCCGAGTGAGAAGTCTGACTATCCGGAGATGGCGGTGAGTAT...                Cytosolic   \n",
      "1  GCTACACTTAGTGACTCTGAGGGACATGCAACCCTCCCCGCATGCT...                Cytosolic   \n",
      "2  TCCGGGCGGAGAACAACAAGGTCTATTGGTCTATGTAATGCTGGTG...                Cytosolic   \n",
      "3  CCTGGCCGTGGGGTCAGCTGCACAGGCCAGGAGCTCGAGGGTGGTG...                Cytosolic   \n",
      "4  GGCTTTTTTTTCCTTGCCTTCTTTTCCCCCTCTCCCACCCCCTTCT...                Cytosolic   \n",
      "\n",
      "          W  \n",
      "0  1.000000  \n",
      "1  1.000000  \n",
      "2  1.000000  \n",
      "3  1.000000  \n",
      "4  0.666667  \n"
     ]
    }
   ],
   "source": [
    "for rid in merge_df[\"Refseq_ID\"].unique():\n",
    "    for loc in merge_df[\"SubCellular_Localization\"].unique():\n",
    "        merge_df.loc[(merge_df[\"Refseq_ID\"] == rid) & (merge_df[\"SubCellular_Localization\"] == loc), [\"W\"]] = len(merge_df[(merge_df[\"Refseq_ID\"] == rid) & (merge_df[\"SubCellular_Localization\"] == loc)]) / len(merge_df[merge_df[\"Refseq_ID\"] == rid])\n",
    "print(merge_df.head(5))"
   ]
  },
  {
   "cell_type": "code",
   "execution_count": 194,
   "metadata": {},
   "outputs": [
    {
     "data": {
      "image/png": "[encoded data removed]",
      "text/plain": [
       "<Figure size 432x288 with 1 Axes>"
      ]
     },
     "metadata": {
      "needs_background": "light"
     },
     "output_type": "display_data"
    }
   ],
   "source": [
    "import matplotlib.pyplot as plt\n",
    "\n",
    "w = data.sort_values(by=[\"Cytosolic\"])[\"Cytosolic\"]\n",
    "w_idx = np.arange(len(w))\n",
    "\n",
    "plt.plot(w_idx, w)\n",
    "# plt.plot(w, w_idx)\n",
    "plt.fill_between(w_idx, w, 0.5, color = 'g', alpha=0.3)\n",
    "# plt.fill_between(w_idx, w, 0.5, color = 'r', alpha=0.3)\n",
    "plt.text(len(w) * 0.6, .7, \"Cytosolic\")\n",
    "plt.text(0, .4, \"Nucleus\")\n",
    "plt.title(\"Total\")\n",
    "plt.xlabel(\"Quantity\")\n",
    "plt.ylabel(\"Weights of Subcellular Localization\")\n",
    "plt.show()"
   ]
  },
  {
   "cell_type": "code",
   "execution_count": 195,
   "metadata": {},
   "outputs": [
    {
     "name": "stdout",
     "output_type": "stream",
     "text": [
      "1.000000    2790\n",
      "0.500000     448\n",
      "0.333333     219\n",
      "0.666667      95\n",
      "0.000000      93\n",
      "0.250000      76\n",
      "0.400000      65\n",
      "0.428571      56\n",
      "0.200000      48\n",
      "0.600000      21\n",
      "0.750000      18\n",
      "0.416667       8\n",
      "0.125000       8\n",
      "0.444444       6\n",
      "0.363636       4\n",
      "0.625000       3\n",
      "0.166667       3\n",
      "0.533333       3\n",
      "0.571429       3\n",
      "0.800000       2\n",
      "0.285714       2\n",
      "0.714286       2\n",
      "0.181818       1\n",
      "0.888889       1\n",
      "0.461538       1\n",
      "0.307692       1\n",
      "0.476190       1\n",
      "0.375000       1\n",
      "0.300000       1\n",
      "Name: Cytosolic, dtype: int64\n",
      "0.000000    2790\n",
      "0.500000     448\n",
      "0.666667     219\n",
      "0.333333      95\n",
      "1.000000      93\n",
      "0.750000      76\n",
      "0.600000      65\n",
      "0.571429      56\n",
      "0.800000      48\n",
      "0.400000      21\n",
      "0.250000      18\n",
      "0.583333       8\n",
      "0.875000       8\n",
      "0.555556       6\n",
      "0.636364       4\n",
      "0.833333       3\n",
      "0.466667       3\n",
      "0.428571       3\n",
      "0.375000       3\n",
      "0.285714       2\n",
      "0.200000       2\n",
      "0.714286       2\n",
      "0.523810       1\n",
      "0.692308       1\n",
      "0.625000       1\n",
      "0.538462       1\n",
      "0.700000       1\n",
      "0.818182       1\n",
      "0.111111       1\n",
      "Name: Nucleus, dtype: int64\n"
     ]
    }
   ],
   "source": [
    "print(data[\"Cytosolic\"].value_counts())\n",
    "print(data[\"Nucleus\"].value_counts())\n",
    "\n",
    "# w = data[data[\"SubCellular_Localization\"] == \"Cytosolic\"].sort_values(by=[\"W\"])[\"W\"]\n",
    "# index = np.arange(len(w))\n",
    "# plt.plot(index, w)\n",
    "# plt.xlabel(\"Quantity\")\n",
    "# plt.ylabel(\"Weights of Subcellular Localization\")\n",
    "# plt.show()"
   ]
  },
  {
   "cell_type": "code",
   "execution_count": 152,
   "metadata": {},
   "outputs": [
    {
     "name": "stdout",
     "output_type": "stream",
     "text": [
      "ALL\n",
      "Cytosolic    3887\n",
      "Nucleus      1190\n",
      "Name: SubCellular_Localization, dtype: int64\n",
      "0.5\n",
      "Cytosolic    2938\n",
      "Nucleus       594\n",
      "Name: SubCellular_Localization, dtype: int64\n",
      "0.6\n",
      "Cytosolic    2911\n",
      "Nucleus       457\n",
      "Name: SubCellular_Localization, dtype: int64\n",
      "0.7\n",
      "Cytosolic    2813\n",
      "Nucleus       231\n",
      "Name: SubCellular_Localization, dtype: int64\n",
      "0.8\n",
      "Cytosolic    2791\n",
      "Nucleus       105\n",
      "Name: SubCellular_Localization, dtype: int64\n",
      "0.9\n",
      "Cytosolic    2790\n",
      "Nucleus        93\n",
      "Name: SubCellular_Localization, dtype: int64\n"
     ]
    }
   ],
   "source": [
    "print(\"ALL\")\n",
    "print(data[\"SubCellular_Localization\"].value_counts())\n",
    "\n",
    "for i in range(5, 10):\n",
    "    print(i/10)\n",
    "    print(data[data[\"W\"] > i/10][\"SubCellular_Localization\"].value_counts())"
   ]
  },
  {
   "cell_type": "code",
   "execution_count": 158,
   "metadata": {},
   "outputs": [],
   "source": [
    "data.to_csv(\"data/society/cdhit80_data.csv\", index=False)"
   ]
  },
  {
   "cell_type": "code",
   "execution_count": 13,
   "metadata": {},
   "outputs": [
    {
     "name": "stdout",
     "output_type": "stream",
     "text": [
      "3980\n",
      "     Refseq_ID  Cytosolic  Nucleus     Gene_ID  \\\n",
      "0  NR_002728.3        0.3      0.7  NCBI:10984   \n",
      "\n",
      "                                            Sequence  \n",
      "0  AGGCAGAACGGTCGCCGCGTCGCCTCAGCACGGACCTCCAGGGAGC...  \n",
      "3980\n"
     ]
    }
   ],
   "source": [
    "data_df = pd.read_csv(\"data/society/cdhit80_data.csv\")\n",
    "\n",
    "\n",
    "# df = seq_sub_df[\"Refseq_ID\"].value_counts().reset_index()\n",
    "\n",
    "# print(seq_sub_df.drop_duplicates()[\"Sequence\"].value_counts())\n",
    "\n",
    "# print(seq_sub_df[seq_sub_df[\"Refseq_ID\"].isin(df[df[\"Refseq_ID\"] > 1][\"index\"][0:1])])\n",
    "# print(len(seq_df[seq_df[\"Refseq_ID\"].isin(df[df[\"Refseq_ID\"] > 1][\"index\"])]))\n",
    "# print(len(seq_df['Refseq_ID']))\n",
    "# print(len(seq_df['Refseq_ID'].unique()))\n",
    "cdhit_df = cdhit80_df.rename(columns={0:\"Gene_ID\", 1:\"Refseq_ID\", 2:\"Sequence\"})\n",
    "print(len(cdhit_df))\n",
    "merge_df = pd.merge(data_df, cdhit_df, on=[\"Refseq_ID\"], how=\"inner\")\n",
    "print(merge_df.head(1))\n",
    "print(len(merge_df))\n",
    "# print(len(data_df['Refseq_ID']))\n",
    "# print(len(data_df['Refseq_ID'].unique()))\n",
    "merge_df.to_csv(\"data/society/cdhit80_data_seq.csv\")\n"
   ]
  },
  {
   "cell_type": "code",
   "execution_count": 10,
   "metadata": {},
   "outputs": [],
   "source": [
    "df = pd.read_csv(\"data/linear_features/cdhit80_k3_linear10.csv\")"
   ]
  },
  {
   "cell_type": "code",
   "execution_count": 11,
   "metadata": {},
   "outputs": [
    {
     "data": {
      "text/plain": [
       "3980"
      ]
     },
     "execution_count": 11,
     "metadata": {},
     "output_type": "execute_result"
    }
   ],
   "source": [
    "len(df)"
   ]
  },
  {
   "cell_type": "code",
   "execution_count": 7,
   "metadata": {},
   "outputs": [
    {
     "name": "stdout",
     "output_type": "stream",
     "text": [
      "2811\n",
      "229\n",
      "3040\n",
      "              0             1             2             3             4  \\\n",
      "8 -2.031360e-42  2.215076e-37 -9.406858e-33  2.066686e-28 -2.563685e-24   \n",
      "\n",
      "              5             6             7             8             9  ...  \\\n",
      "8  1.801307e-20 -6.676272e-17  1.176787e-13 -1.729383e-10 -3.832859e-07  ...   \n",
      "\n",
      "            696           697           698           699           700  \\\n",
      "8  4.057175e-28 -4.371750e-24  2.780490e-20 -9.854962e-17  1.602832e-13   \n",
      "\n",
      "            701           702       703    len        loc  \n",
      "8 -3.686493e-11 -5.159456e-08  0.011145  16050  Cytosolic  \n",
      "\n",
      "[1 rows x 706 columns]\n"
     ]
    },
    {
     "name": "stderr",
     "output_type": "stream",
     "text": [
      "<ipython-input-7-eebaa4a36bcc>:2: SettingWithCopyWarning: \n",
      "A value is trying to be set on a copy of a slice from a DataFrame.\n",
      "Try using .loc[row_indexer,col_indexer] = value instead\n",
      "\n",
      "See the caveats in the documentation: https://pandas.pydata.org/pandas-docs/stable/user_guide/indexing.html#returning-a-view-versus-a-copy\n",
      "  cyt[\"loc\"] = \"Cytosolic\"\n",
      "<ipython-input-7-eebaa4a36bcc>:4: SettingWithCopyWarning: \n",
      "A value is trying to be set on a copy of a slice from a DataFrame.\n",
      "Try using .loc[row_indexer,col_indexer] = value instead\n",
      "\n",
      "See the caveats in the documentation: https://pandas.pydata.org/pandas-docs/stable/user_guide/indexing.html#returning-a-view-versus-a-copy\n",
      "  nuc[\"loc\"] = \"Nucleus\"\n"
     ]
    }
   ],
   "source": [
    "cyt = df[df[\"Cytosolic\"] >= 0.75]\n",
    "cyt[\"loc\"] = \"Cytosolic\"\n",
    "nuc = df[df[\"Nucleus\"] >= 0.75]\n",
    "nuc[\"loc\"] = \"Nucleus\"\n",
    "print(len(cyt))\n",
    "print(len(nuc))\n",
    "output = cyt.append(nuc)\n",
    "output = output.drop(columns=[\"Cytosolic\", \"Nucleus\"])\n",
    "print(len(output))\n",
    "print(output.head(1))\n"
   ]
  },
  {
   "cell_type": "code",
   "execution_count": 8,
   "metadata": {},
   "outputs": [],
   "source": [
    "output.to_csv(\"data/linear_features/cdhit80_k3_linear10_loc75.csv\", index=False)"
   ]
  }
 ],
 "metadata": {
  "interpreter": {
   "hash": "40d3a090f54c6569ab1632332b64b2c03c39dcf918b08424e98f38b5ae0af88f"
  },
  "kernelspec": {
   "display_name": "Python 3.8.8 64-bit ('base': conda)",
   "name": "python3"
  },
  "language_info": {
   "codemirror_mode": {
    "name": "ipython",
    "version": 3
   },
   "file_extension": ".py",
   "mimetype": "text/x-python",
   "name": "python",
   "nbconvert_exporter": "python",
   "pygments_lexer": "ipython3",
   "version": "3.8.8"
  },
  "orig_nbformat": 4
 },
 "nbformat": 4,
 "nbformat_minor": 2
}
