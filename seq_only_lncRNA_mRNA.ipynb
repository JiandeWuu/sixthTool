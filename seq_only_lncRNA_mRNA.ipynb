{
 "cells": [
  {
   "cell_type": "code",
   "execution_count": 1,
   "metadata": {},
   "outputs": [],
   "source": [
    "\n",
    "import os\n",
    "import time\n",
    "import math\n",
    "import json\n",
    "import pickle\n",
    "\n",
    "import statistics\n",
    "\n",
    "import numpy as np\n",
    "import pandas as pd\n",
    "import torch\n",
    "import torch.nn as nn\n",
    "import torch.optim as optim\n",
    "import torch.utils.data as Data\n",
    "import torch.nn.functional as F\n",
    "import matplotlib\n",
    "import matplotlib.pyplot as plt\n",
    "\n",
    "from os import listdir\n",
    "from os.path import join\n",
    "from os.path import isfile\n",
    "\n",
    "from tqdm import tqdm\n",
    "\n",
    "from itertools import combinations\n",
    "\n",
    "from sklearn.model_selection import train_test_split, cross_val_score\n",
    "from sklearn import datasets\n",
    "from sklearn import svm\n",
    "from sklearn import metrics\n",
    "from sklearn.metrics import confusion_matrix\n",
    "from sklearn.metrics import f1_score\n",
    "\n",
    "\n",
    "from libsvm.svmutil import svm_problem\n",
    "from libsvm.svmutil import svm_parameter\n",
    "from libsvm.svmutil import svm_train\n",
    "from libsvm.svmutil import svm_predict\n",
    "from libsvm.svmutil import evaluations\n",
    "\n",
    "from sklearn.datasets import make_classification\n",
    "from sklearn.feature_selection import RFE\n",
    "from sklearn.tree import DecisionTreeClassifier\n",
    "\n",
    "from ReliefF import ReliefF\n",
    "\n",
    "from Function import svm_function"
   ]
  },
  {
   "cell_type": "code",
   "execution_count": 4,
   "metadata": {},
   "outputs": [
    {
     "name": "stdout",
     "output_type": "stream",
     "text": [
      "nuc_lncRNA__cyto_lncRNA\n",
      "nuc_lncRNA__cyto_mRNA\n",
      "nuc_lncRNA__cyto_lncRNA__cyto_mRNA\n"
     ]
    }
   ],
   "source": [
    "# save model\n",
    "dir_path = \"data/merge_data/0916chiu/classifier/output/\"\n",
    "onlyfiles = [f for f in listdir(dir_path) if isfile(join(dir_path, f))]\n",
    "\n",
    "s = \"\"\n",
    "\n",
    "for file in onlyfiles:\n",
    "    if not \".dvc\" in file and (\"__esvm_s10_p10_e512_f10__v230106.json\" in file or \"__v230118.json\" in file) :\n",
    "        f = open(dir_path + file)\n",
    "        json_dcit = json.load(f)\n",
    "        f.close()\n",
    "        name = file[:-len(\"__esvm_s10_p10_e512_f10__v230106.json\")]\n",
    "        print(name)\n",
    "        name_path = \"/data/jand/sixthTool/data/merge_data/0916chiu/classifier/\"\n",
    "        s += \"nohup python save_model.py -m esvm -x %s -y %s -i %s -l %s -p %s -s %s\" %(\n",
    "            name_path + name + \"_train.npy\",\n",
    "            name_path + name + \"_train_y.npy\",\n",
    "            name_path + name + \"_test.npy\",\n",
    "            name_path + name + \"_test_y.npy\",\n",
    "            dir_path + file,\n",
    "            \"/data/jand/sixthTool/data/model/merge_data/0916chiu/classifier/\" + file[:-5] + \".pickle &> data/log/save_model__\" + file[:-5] + \".txt &\\n\")"
   ]
  },
  {
   "cell_type": "code",
   "execution_count": 14,
   "metadata": {},
   "outputs": [],
   "source": [
    "with open(\"svm.sh\", \"w\") as fp:\n",
    "    fp.write(s)"
   ]
  },
  {
   "cell_type": "code",
   "execution_count": null,
   "metadata": {},
   "outputs": [],
   "source": [
    "dir_path = \"data/merge_data/0916chiu/classifier/output/nuc_lncRNA__cyto_lncRNA_esvmf10s50p4e512_v4\"\n",
    "# hp_df = pd.read_csv(dir_path)\n",
    "\n",
    "with open(dir_path + \".json\") as f:\n",
    "    json_dict = json.load(f)\n",
    "# print(file_str, test_roc_score, acc, recall, prec, spec, npv, f1sc)\n",
    "print(json_dict[\"avg AUROC\"], \n",
    "      json_dict[\"avg Accy\"], \n",
    "      json_dict[\"avg Recall\"], \n",
    "      json_dict[\"avg Prec\"], \n",
    "      json_dict[\"avg Spec\"], \n",
    "      json_dict[\"avg Npv\"],\n",
    "      json_dict[\"avg F1sc\"])"
   ]
  },
  {
   "cell_type": "code",
   "execution_count": 49,
   "metadata": {},
   "outputs": [
    {
     "name": "stdout",
     "output_type": "stream",
     "text": [
      "nuc_lncRNA__cyto_lncRNA nuc_lncRNA__cyto_lncRNA__esvm_s10_p10_e512_f10__v230106.pickle\n",
      "lncRAN test set AUROC: 0.70\n",
      "mRAN test set AUROC: 0.61\n"
     ]
    }
   ],
   "source": [
    "dir_path = \"data/model/merge_data/0916chiu/classifier/\"\n",
    "onlyfiles = [f for f in listdir(dir_path) if isfile(join(dir_path, f))]\n",
    "\n",
    "lncrna_perf_list = []\n",
    "mrna_perf_list = []\n",
    "\n",
    "for file_name in onlyfiles:\n",
    "    if not \".dvc\" in file_name and not \".git\" in file_name and \"nuc_lncRNA__cyto_lncRNA__esvm_s10_p10_e512_f10__v230106\" in file_name:\n",
    "        file_str = file_name[:-len(\"__esvm_s10_p10_e512_f10__v230106.pickle\")]\n",
    "        print(file_str, file_name)\n",
    "\n",
    "        with open(dir_path + file_name, 'rb') as f:\n",
    "            clf = pickle.load(f)\n",
    "        \n",
    "        data_path = \"data/merge_data/0916chiu/classifier/\"\n",
    "        test_x = np.load(data_path + \"nuc_lncRNA__cyto_lncRNA\" + \"_test.npy\")\n",
    "        test_y = np.load(data_path + \"nuc_lncRNA__cyto_lncRNA\" + \"_test_y.npy\")\n",
    "        pred_y, decision_values = clf.predict(test_x)\n",
    "        # decision_values = np.where(np.isfinite(decision_values), decision_values, 0) \n",
    "        test_roc_score = metrics.roc_auc_score(test_y, decision_values)\n",
    "        \n",
    "        tn, fp, fn, tp = confusion_matrix(test_y, pred_y).ravel()\n",
    "        \n",
    "        acc = (tn + tp) / (tn + fp + fn + tp)\n",
    "        recall = tp / (fn + tp)\n",
    "        prec = (tp / (fp + tp))\n",
    "        spec = (tn / (tn + fp))\n",
    "        npv = (tn / (tn + fn))\n",
    "        f1sc = (2 * (tp / (fn + tp)) * (tp / (fp + tp)) / ((tp / (fn + tp)) + (tp / (fp + tp))))\n",
    "        \n",
    "        lncrna_perf_list.append([file_str, test_roc_score, acc, recall, prec, spec, npv, f1sc])\n",
    "        print(\"lncRAN test set AUROC: %.2f\" % (test_roc_score))\n",
    "        \n",
    "        test_x = np.load(data_path + \"nuc_mRNA__cyto_mRNA\" + \"_test.npy\")\n",
    "        test_y = np.load(data_path + \"nuc_mRNA__cyto_mRNA\" + \"_test_y.npy\")\n",
    "        \n",
    "        pred_y, decision_values = clf.predict(test_x)\n",
    "        # decision_values = np.where(np.isfinite(decision_values), decision_values, 0) \n",
    "        test_roc_score = metrics.roc_auc_score(test_y, decision_values)\n",
    "        \n",
    "        tn, fp, fn, tp = confusion_matrix(test_y, pred_y).ravel()\n",
    "        \n",
    "        acc = (tn + tp) / (tn + fp + fn + tp)\n",
    "        recall = tp / (fn + tp)\n",
    "        prec = (tp / (fp + tp))\n",
    "        spec = (tn / (tn + fp))\n",
    "        npv = (tn / (tn + fn))\n",
    "        f1sc = (2 * (tp / (fn + tp)) * (tp / (fp + tp)) / ((tp / (fn + tp)) + (tp / (fp + tp))))\n",
    "        \n",
    "        mrna_perf_list.append([file_str, test_roc_score, acc, recall, prec, spec, npv, f1sc])\n",
    "        print(\"mRAN test set AUROC: %.2f\" % (test_roc_score))\n",
    "        "
   ]
  },
  {
   "cell_type": "code",
   "execution_count": 3,
   "metadata": {},
   "outputs": [
    {
     "name": "stdout",
     "output_type": "stream",
     "text": [
      "nuc_mRNA__cyto_mRNA nuc_lncRNA__cyto_lncRNA\n",
      "nuc_lncRNA__cyto_mRNA nuc_mRNA__cyto_lncRNA\n",
      "AUROC: 0.12\n",
      "nuc_lncRNA__cyto_lncRNA nuc_mRNA__cyto_mRNA\n",
      "AUROC: 0.61\n",
      "nuc_lncRNA__cyto_lncRNA__cyto_mRNA nuc_mRNA\n",
      "AUROC: 0.18\n",
      "nuc_lncRNA__nuc_mRNA__cyto_mRNA cyto_lncRNA\n"
     ]
    },
    {
     "name": "stderr",
     "output_type": "stream",
     "text": [
      "/home/jand/.conda/envs/jand_venv/lib/python3.6/site-packages/ipykernel_launcher.py:31: RuntimeWarning: invalid value encountered in long_scalars\n"
     ]
    }
   ],
   "source": [
    "indep_list = [[\"nuc_mRNA__cyto_mRNA\", \"nuc_lncRNA__cyto_lncRNA\"],\n",
    "              [\"nuc_lncRNA__cyto_mRNA\", \"nuc_mRNA__cyto_lncRNA\"],\n",
    "              [\"nuc_lncRNA__cyto_lncRNA\", \"nuc_mRNA__cyto_mRNA\"],\n",
    "              [\"nuc_lncRNA__cyto_lncRNA__cyto_mRNA\", \"nuc_mRNA\"],\n",
    "              [\"nuc_lncRNA__nuc_mRNA__cyto_mRNA\", \"cyto_lncRNA\"],\n",
    "              ]\n",
    "indep_perf_list = []\n",
    "for test_str in indep_list:\n",
    "    print(test_str[0], test_str[1])\n",
    "    file_str = test_str[1]\n",
    "    if os.path.exists(dir_path + test_str[0] + \"__esvm_s10_p10_e512_f10__v230106.pickle\"):\n",
    "        with open(dir_path + test_str[0] + \"__esvm_s10_p10_e512_f10__v230106.pickle\", 'rb') as f:\n",
    "            clf = pickle.load(f)\n",
    "        \n",
    "        data_path = \"data/merge_data/0916chiu/classifier/\"\n",
    "        test_x = np.load(data_path + file_str + \"_test.npy\")\n",
    "        test_y = np.load(data_path + file_str + \"_test_y.npy\")\n",
    "        \n",
    "        pred_y, decision_values = clf.predict(test_x)\n",
    "        # decision_values = np.where(np.isfinite(decision_values), decision_values, 0) \n",
    "        if \"nuc_mRNA\" == file_str or \"cyto_lncRNA\" == file_str:\n",
    "            test_roc_score = metrics.accuracy_score(test_y, pred_y)\n",
    "        else:\n",
    "            test_roc_score = metrics.roc_auc_score(test_y, decision_values)\n",
    "        print(\"AUROC: %.2f\" % (test_roc_score))\n",
    "        tn, fp, fn, tp = confusion_matrix(test_y, pred_y).ravel()\n",
    "            \n",
    "        acc = (tn + tp) / (tn + fp + fn + tp)\n",
    "        recall = tp / (fn + tp)\n",
    "        prec = (tp / (fp + tp))\n",
    "        spec = (tn / (tn + fp))\n",
    "        npv = (tn / (tn + fn))\n",
    "        f1sc = (2 * (tp / (fn + tp)) * (tp / (fp + tp)) / ((tp / (fn + tp)) + (tp / (fp + tp))))\n",
    "        \n",
    "        indep_perf_list.append([test_str[0], file_str, test_roc_score, acc, recall, prec, spec, npv, f1sc])"
   ]
  },
  {
   "cell_type": "code",
   "execution_count": 31,
   "metadata": {},
   "outputs": [],
   "source": [
    "data_path = \"data/merge_data/0916chiu/classifier/\"\n",
    "file_str = \"nuc_lncRNA__cyto_lncRNA\"\n",
    "test_x = np.load(data_path + file_str + \"_test.npy\")\n",
    "test_y = np.load(data_path + file_str + \"_test_y.npy\")\n",
    "\n",
    "with open(\"data/model/merge_data/0916chiu/classifier/nuc_lncRNA__cyto_lncRNA__esvm_s10_p10_e512_f10__v230106.pickle\", 'rb') as f:\n",
    "    lncrna_clf = pickle.load(f)\n",
    "\n",
    "with open(\"data/model/merge_data/0916chiu/classifier/nuc_mRNA__cyto_mRNA__svm.pickle\", 'rb') as f:\n",
    "    mrna_clf = pickle.load(f)\n",
    "\n",
    "lnc_pred_y, lnc_pred_pro = lncrna_clf.predict(test_x)\n",
    "m_pred_y = mrna_clf.predict(test_x)"
   ]
  },
  {
   "cell_type": "code",
   "execution_count": 32,
   "metadata": {},
   "outputs": [],
   "source": [
    "m_pred_pro = mrna_clf.predict_proba(test_x)[:, 1]"
   ]
  },
  {
   "cell_type": "code",
   "execution_count": 4,
   "metadata": {},
   "outputs": [],
   "source": [
    "def _perf_list(name, y, pred_y, dv):\n",
    "    test_roc_score = metrics.roc_auc_score(y, dv)\n",
    "    tn, fp, fn, tp = confusion_matrix(y, pred_y).ravel()\n",
    "\n",
    "    acc = (tn + tp) / (tn + fp + fn + tp)\n",
    "    recall = tp / (fn + tp)\n",
    "    prec = (tp / (fp + tp))\n",
    "    spec = (tn / (tn + fp))\n",
    "    npv = (tn / (tn + fn))\n",
    "    f1sc = (2 * (tp / (fn + tp)) * (tp / (fp + tp)) / ((tp / (fn + tp)) + (tp / (fp + tp))))\n",
    "    return [name, test_roc_score, acc, recall, prec, spec, npv, f1sc]"
   ]
  },
  {
   "cell_type": "code",
   "execution_count": 47,
   "metadata": {},
   "outputs": [],
   "source": [
    "perf_list = []\n",
    "file_str = \"lncRNA and mRNA\"\n",
    "pred_y = np.logical_and(lnc_pred_y, m_pred_y)\n",
    "decision_values = np.where(pred_y, np.max(np.array([lnc_pred_pro, m_pred_pro]), axis=0), np.min(np.array([lnc_pred_pro, m_pred_pro]), axis=0))\n",
    "perf_list.append(_perf_list(file_str, test_y, pred_y, decision_values))\n",
    "\n",
    "file_str = \"lncRNA or mRNA\"\n",
    "pred_y = np.logical_or(lnc_pred_y, m_pred_y)\n",
    "decision_values = np.where(pred_y, np.max(np.array([lnc_pred_pro, m_pred_pro]), axis=0), np.min(np.array([lnc_pred_pro, m_pred_pro]), axis=0))\n",
    "perf_list.append(_perf_list(file_str, test_y, pred_y, decision_values))\n",
    "\n",
    "file_str = \"lncRNA, mRNA high\"\n",
    "pred_y = np.where(abs(np.array(lnc_pred_pro) - 0.5) > abs(np.array(m_pred_pro) - 0.5), lnc_pred_y, m_pred_y)\n",
    "decision_values = np.where(abs(np.array(lnc_pred_pro) - 0.5) > abs(np.array(m_pred_pro) - 0.5), lnc_pred_pro, m_pred_pro)\n",
    "perf_list.append(_perf_list(file_str, test_y, pred_y, decision_values))\n",
    "\n",
    "file_str = \"lncRNA nuc, lncRNA, mRNA high\"\n",
    "pred_y = np.where((abs(np.array(lnc_pred_pro) - 0.5) > abs(np.array(m_pred_pro) - 0.5)) | np.array(lnc_pred_y, dtype=bool), lnc_pred_y, m_pred_y)\n",
    "decision_values = np.where((abs(np.array(lnc_pred_pro) - 0.5) > abs(np.array(m_pred_pro) - 0.5)) | np.array(lnc_pred_y, dtype=bool), lnc_pred_pro, m_pred_pro)\n",
    "perf_list.append(_perf_list(file_str, test_y, pred_y, decision_values))\n"
   ]
  },
  {
   "cell_type": "code",
   "execution_count": 48,
   "metadata": {},
   "outputs": [],
   "source": [
    "pd.DataFrame(perf_list, columns=[\"name\", \"AUROC\", \"acc\", \"recall\", \"prec\", \"spec\", \"npv\", \"f1sc\"]).to_csv(\"data/model/output/lncRNA_mRNA__230220_v2.csv\", index=False)"
   ]
  },
  {
   "cell_type": "code",
   "execution_count": 2,
   "metadata": {},
   "outputs": [],
   "source": [
    "def lnc_and_m(lnc_pred_y, lnc_pred_pro, m_pred_y, m_pred_pro):\n",
    "    pred_y = np.logical_and(lnc_pred_y, m_pred_y)\n",
    "    decision_values = np.where(pred_y, np.max(np.array([lnc_pred_pro, m_pred_pro]), axis=0), np.min(np.array([lnc_pred_pro, m_pred_pro]), axis=0))\n",
    "    return pred_y, decision_values\n",
    "\n",
    "def lnc_or_m(lnc_pred_y, lnc_pred_pro, m_pred_y, m_pred_pro):\n",
    "    pred_y = np.logical_or(lnc_pred_y, m_pred_y)\n",
    "    decision_values = np.where(pred_y, np.max(np.array([lnc_pred_pro, m_pred_pro]), axis=0), np.min(np.array([lnc_pred_pro, m_pred_pro]), axis=0))\n",
    "    return pred_y, decision_values\n",
    "\n",
    "def lnc_high_m(lnc_pred_y, lnc_pred_pro, m_pred_y, m_pred_pro):\n",
    "    pred_y = np.where(abs(np.array(lnc_pred_pro) - 0.5) > abs(np.array(m_pred_pro) - 0.5), lnc_pred_y, m_pred_y)\n",
    "    decision_values = np.where(abs(np.array(lnc_pred_pro) - 0.5) > abs(np.array(m_pred_pro) - 0.5), lnc_pred_pro, m_pred_pro)\n",
    "    return pred_y, decision_values\n",
    "\n",
    "def lnc_n_lnc_high_m(lnc_pred_y, lnc_pred_pro, m_pred_y, m_pred_pro):\n",
    "    pred_y = np.where((abs(np.array(lnc_pred_pro) - 0.5) > abs(np.array(m_pred_pro) - 0.5)) | np.array(lnc_pred_y, dtype=bool), lnc_pred_y, m_pred_y)\n",
    "    decision_values = np.where((abs(np.array(lnc_pred_pro) - 0.5) > abs(np.array(m_pred_pro) - 0.5)) | np.array(lnc_pred_y, dtype=bool), lnc_pred_pro, m_pred_pro)\n",
    "    return pred_y, decision_values"
   ]
  },
  {
   "cell_type": "code",
   "execution_count": 5,
   "metadata": {},
   "outputs": [],
   "source": [
    "lncrna_perf_list = []\n",
    "mrna_perf_list = []\n",
    "\n",
    "with open(\"data/model/merge_data/0916chiu/classifier/nuc_lncRNA__cyto_lncRNA__esvm_s10_p10_e512_f10__v230106.pickle\", 'rb') as f:\n",
    "    lncrna_clf = pickle.load(f)\n",
    "\n",
    "with open(\"data/model/merge_data/0916chiu/classifier/nuc_mRNA__cyto_mRNA__svm.pickle\", 'rb') as f:\n",
    "    mrna_clf = pickle.load(f)\n",
    "\n",
    "# lncRNA data test\n",
    "data_path = \"data/merge_data/0916chiu/classifier/\"\n",
    "file_str = \"nuc_lncRNA__cyto_lncRNA\"\n",
    "test_x = np.load(data_path + file_str + \"_test.npy\")\n",
    "test_y = np.load(data_path + file_str + \"_test_y.npy\")\n",
    "\n",
    "# lncRNA, mRNA model pred\n",
    "lnc_pred_y, lnc_pred_pro = lncrna_clf.predict(test_x)\n",
    "m_pred_y = mrna_clf.predict(test_x)\n",
    "m_pred_pro = mrna_clf.predict_proba(test_x)[:, 1]\n",
    "\n",
    "# lncRNA\n",
    "model_str = \"lncRNA\"\n",
    "lncrna_perf_list.append(_perf_list(model_str, test_y, lnc_pred_y, lnc_pred_pro))\n",
    "\n",
    "# lncRNA and mRNA\n",
    "pred_y, decision_values = lnc_and_m(lnc_pred_y, lnc_pred_pro, m_pred_y, m_pred_pro)\n",
    "lncrna_perf_list.append(_perf_list(\"lncRNA and mRNA\", test_y, pred_y, decision_values))\n",
    "# lncRNA or mRNA \n",
    "pred_y, decision_values = lnc_or_m(lnc_pred_y, lnc_pred_pro, m_pred_y, m_pred_pro)\n",
    "lncrna_perf_list.append(_perf_list(\"lncRNA or mRNA\", test_y, pred_y, decision_values))\n",
    "# lncRNA high mRNA\n",
    "pred_y, decision_values = lnc_high_m(lnc_pred_y, lnc_pred_pro, m_pred_y, m_pred_pro)\n",
    "lncrna_perf_list.append(_perf_list(\"lncRNA high mRNA\", test_y, pred_y, decision_values))\n",
    "# lncRNA nuc, lncRNA high mRNA\n",
    "pred_y, decision_values = lnc_n_lnc_high_m(lnc_pred_y, lnc_pred_pro, m_pred_y, m_pred_pro)\n",
    "lncrna_perf_list.append(_perf_list(\"lncRNA nuc, lncRNA high mRNA\", test_y, pred_y, decision_values))\n",
    "\n",
    "\n",
    "# mRNA data test\n",
    "data_path = \"data/merge_data/0916chiu/classifier/\"\n",
    "file_str = \"nuc_mRNA__cyto_mRNA\"\n",
    "test_x = np.load(data_path + file_str + \"_test.npy\")\n",
    "test_y = np.load(data_path + file_str + \"_test_y.npy\")\n",
    "\n",
    "# lncRNA, mRNA model pred\n",
    "lnc_pred_y, lnc_pred_pro = lncrna_clf.predict(test_x)\n",
    "m_pred_y = mrna_clf.predict(test_x)\n",
    "m_pred_pro = mrna_clf.predict_proba(test_x)[:, 1]\n",
    "\n",
    "# lncRNA\n",
    "model_str = \"lncRNA\"\n",
    "mrna_perf_list.append(_perf_list(model_str, test_y, lnc_pred_y, lnc_pred_pro))\n",
    "\n",
    "# lncRNA and mRNA\n",
    "pred_y, decision_values = lnc_and_m(lnc_pred_y, lnc_pred_pro, m_pred_y, m_pred_pro)\n",
    "mrna_perf_list.append(_perf_list(\"lncRNA and mRNA\", test_y, pred_y, decision_values))\n",
    "# lncRNA or mRNA \n",
    "pred_y, decision_values = lnc_or_m(lnc_pred_y, lnc_pred_pro, m_pred_y, m_pred_pro)\n",
    "mrna_perf_list.append(_perf_list(\"lncRNA or mRNA\", test_y, pred_y, decision_values))\n",
    "# lncRNA high mRNA\n",
    "pred_y, decision_values = lnc_high_m(lnc_pred_y, lnc_pred_pro, m_pred_y, m_pred_pro)\n",
    "mrna_perf_list.append(_perf_list(\"lncRNA high mRNA\", test_y, pred_y, decision_values))\n",
    "# lncRNA nuc, lncRNA high mRNA\n",
    "pred_y, decision_values = lnc_n_lnc_high_m(lnc_pred_y, lnc_pred_pro, m_pred_y, m_pred_pro)\n",
    "mrna_perf_list.append(_perf_list(\"lncRNA nuc, lncRNA high mRNA\", test_y, pred_y, decision_values))"
   ]
  },
  {
   "cell_type": "code",
   "execution_count": 6,
   "metadata": {},
   "outputs": [
    {
     "name": "stdout",
     "output_type": "stream",
     "text": [
      "[['lncRNA', 0.7036889172788247, 0.6649029982363316, 0.6752475247524753, 0.9291553133514986, 0.5806451612903226, 0.18, 0.7821100917431192], ['lncRNA and mRNA', 0.6846055573299265, 0.3968253968253968, 0.3405940594059406, 0.9502762430939227, 0.8548387096774194, 0.13730569948186527, 0.5014577259475219], ['lncRNA or mRNA', 0.6825614819546472, 0.7354497354497355, 0.7762376237623763, 0.9137529137529138, 0.4032258064516129, 0.18115942028985507, 0.8394004282655247], ['lncRNA high mRNA', 0.7156978601085915, 0.691358024691358, 0.695049504950495, 0.9435483870967742, 0.6612903225806451, 0.21025641025641026, 0.8004561003420751], ['lncRNA nuc, lncRNA high mRNA', 0.7049185563717661, 0.6984126984126984, 0.7168316831683168, 0.9282051282051282, 0.5483870967741935, 0.192090395480226, 0.8089385474860334]]\n",
      "[['lncRNA', 0.6139720144084234, 0.613884926295768, 0.7290108063175395, 0.6434336023477623, 0.46, 0.5594594594594594, 0.6835541699142633], ['lncRNA and mRNA', 0.6723866260275237, 0.6329053732762719, 0.5295095594347464, 0.7556346381969158, 0.7711111111111111, 0.5507936507936508, 0.6226783968719453], ['lncRNA or mRNA', 0.6349759859610233, 0.6405135520684736, 0.8370739817123857, 0.6426292278238672, 0.37777777777777777, 0.6343283582089553, 0.727075812274368], ['lncRNA high mRNA', 0.6251902650780456, 0.628150261531146, 0.7564422277639236, 0.6504646175839885, 0.45666666666666667, 0.5838068181818182, 0.6994619523443505], ['lncRNA nuc, lncRNA high mRNA', 0.6186238108432621, 0.6248216833095578, 0.7788861180382377, 0.6417808219178082, 0.41888888888888887, 0.5863141524105754, 0.7037176117161096]]\n"
     ]
    }
   ],
   "source": [
    "print(lncrna_perf_list)\n",
    "print(mrna_perf_list)"
   ]
  },
  {
   "cell_type": "code",
   "execution_count": 7,
   "metadata": {},
   "outputs": [],
   "source": [
    "lncrna_perf_df = pd.DataFrame(lncrna_perf_list, columns=[\"name\", \"lncRNA AUROC\", \"lncRNA acc\", \"lncRNA recall\", \"lncRNA prec\", \"lncRNA spec\", \"lncRNA npv\", \"lncRNA f1sc\"])\n",
    "mrna_perf_df = pd.DataFrame(mrna_perf_list, columns=[\"name\", \"mRNA AUROC\", \"mRNA acc\", \"mRNA recall\", \"mRNA prec\", \"mRNA spec\", \"mRNA npv\", \"mRNA f1sc\"])"
   ]
  },
  {
   "cell_type": "code",
   "execution_count": 9,
   "metadata": {},
   "outputs": [],
   "source": [
    "pd.merge(lncrna_perf_df, mrna_perf_df, on=\"name\", how=\"inner\").to_csv(\"data/model/output/test_lncRNA_mRNA__230306.csv\", index=False)"
   ]
  },
  {
   "cell_type": "code",
   "execution_count": 29,
   "metadata": {},
   "outputs": [
    {
     "name": "stdout",
     "output_type": "stream",
     "text": [
      "nuc_lncRNA__cyto_lncRNA + nuc_mRNA__cyto_mRNA 0.6781699137655702 0.691358024691358 0.695049504950495 0.9435483870967742 0.6612903225806451 0.21025641025641026 0.8004561003420751\n",
      "AUROC: 0.68\n"
     ]
    }
   ],
   "source": [
    "file_str = \"nuc_lncRNA__cyto_lncRNA + nuc_mRNA__cyto_mRNA\"\n",
    "# decision_values = np.logical_and(lnc_pred_y, m_pred_y)\n",
    "# decision_values = np.logical_or(lnc_pred_y, m_pred_y)\n",
    "decision_values = np.where(abs(np.array(lnc_pred_pro) - 0.5) > abs(np.array(m_pred_pro) - 0.5), lnc_pred_y, m_pred_y)\n",
    "# decision_values = np.where((abs(np.array(lnc_pred_pro) - 0.5) > abs(np.array(m_pred_pro) - 0.5)) | np.array(lnc_pred_y, dtype=bool), lnc_pred_y, m_pred_y)\n",
    "test_roc_score = metrics.roc_auc_score(test_y, decision_values)\n",
    "        \n",
    "tn, fp, fn, tp = confusion_matrix(test_y, decision_values).ravel()\n",
    "\n",
    "acc = (tn + tp) / (tn + fp + fn + tp)\n",
    "recall = tp / (fn + tp)\n",
    "prec = (tp / (fp + tp))\n",
    "spec = (tn / (tn + fp))\n",
    "npv = (tn / (tn + fn))\n",
    "f1sc = (2 * (tp / (fn + tp)) * (tp / (fp + tp)) / ((tp / (fn + tp)) + (tp / (fp + tp))))\n",
    "print(file_str, test_roc_score, acc, recall, prec, spec, npv, f1sc)\n",
    "print(\"AUROC: %.2f\" % (test_roc_score))"
   ]
  }
 ],
 "metadata": {
  "kernelspec": {
   "display_name": "jand_venv",
   "language": "python",
   "name": "python3"
  },
  "language_info": {
   "codemirror_mode": {
    "name": "ipython",
    "version": 3
   },
   "file_extension": ".py",
   "mimetype": "text/x-python",
   "name": "python",
   "nbconvert_exporter": "python",
   "pygments_lexer": "ipython3",
   "version": "3.6.13"
  },
  "orig_nbformat": 4,
  "vscode": {
   "interpreter": {
    "hash": "681206c3b8dadcd0ad9db9cda94afb40592645b096d359128b6de26b00c40796"
   }
  }
 },
 "nbformat": 4,
 "nbformat_minor": 2
}
