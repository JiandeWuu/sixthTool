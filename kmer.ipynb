{
 "cells": [
  {
   "cell_type": "code",
   "execution_count": 2,
   "metadata": {},
   "outputs": [],
   "source": [
    "import time\n",
    "import hashlib\n",
    "\n",
    "import numpy as np\n",
    "import pandas as pd"
   ]
  },
  {
   "cell_type": "code",
   "execution_count": 9,
   "metadata": {},
   "outputs": [],
   "source": [
    "# data = pd.read_csv(\"data/data.csv\")\n",
    "data = pd.read_csv(\"data/society/cdhit80_data_seq.csv\")"
   ]
  },
  {
   "cell_type": "code",
   "execution_count": 15,
   "metadata": {},
   "outputs": [
    {
     "data": {
      "text/plain": [
       "3998"
      ]
     },
     "execution_count": 15,
     "metadata": {},
     "output_type": "execute_result"
    }
   ],
   "source": [
    "len(data)"
   ]
  },
  {
   "cell_type": "code",
   "execution_count": 4,
   "metadata": {},
   "outputs": [],
   "source": [
    "def k_mers(data, n):\n",
    "    return [[s[i:i + n].lower() for i in range(len(s) - n)] for s in data]"
   ]
  },
  {
   "cell_type": "code",
   "execution_count": 5,
   "metadata": {},
   "outputs": [],
   "source": [
    "from collections import Counter\n",
    "\n",
    "def build_vocab(data):\n",
    "    word_counts = Counter(row.lower() for sample in data for row in sample)\n",
    "    vocab = [w for w, f in iter(word_counts.items())]\n",
    "    return vocab"
   ]
  },
  {
   "cell_type": "code",
   "execution_count": 11,
   "metadata": {},
   "outputs": [],
   "source": [
    "kmer_array = k_mers(data['Sequence'], 2)\n",
    "vocab = build_vocab(kmer_array)"
   ]
  },
  {
   "cell_type": "code",
   "execution_count": 12,
   "metadata": {},
   "outputs": [],
   "source": [
    "row_count = [[Counter(row)[key] for key in vocab] for row in kmer_array ]"
   ]
  },
  {
   "cell_type": "code",
   "execution_count": 14,
   "metadata": {},
   "outputs": [
    {
     "name": "stdout",
     "output_type": "stream",
     "text": [
      "[[7484 5884 4306 ... 6343 5368 5271]\n",
      " [2970 2204 1449 ... 2501 3457 2516]\n",
      " [2302 2323 1042 ... 1991  876  941]\n",
      " ...\n",
      " [   3    2    1 ...    5   10    4]\n",
      " [   7    2    4 ...    4    2    3]\n",
      " [   4    3    9 ...    4    0    1]]\n",
      "(3998, 16)\n",
      "(3998, 16)\n"
     ]
    }
   ],
   "source": [
    "from scipy import stats\n",
    "\n",
    "row_count = np.array(row_count)\n",
    "print(row_count)\n",
    "z = stats.zscore(row_count, axis=1, ddof=1)\n",
    "print(row_count.shape)\n",
    "print(z.shape)"
   ]
  }
 ],
 "metadata": {
  "interpreter": {
   "hash": "40d3a090f54c6569ab1632332b64b2c03c39dcf918b08424e98f38b5ae0af88f"
  },
  "kernelspec": {
   "display_name": "Python 3.8.8 64-bit ('base': conda)",
   "name": "python3"
  },
  "language_info": {
   "codemirror_mode": {
    "name": "ipython",
    "version": 3
   },
   "file_extension": ".py",
   "mimetype": "text/x-python",
   "name": "python",
   "nbconvert_exporter": "python",
   "pygments_lexer": "ipython3",
   "version": "3.8.8"
  },
  "orig_nbformat": 4
 },
 "nbformat": 4,
 "nbformat_minor": 2
}
