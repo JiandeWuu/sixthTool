{
 "cells": [
  {
   "cell_type": "markdown",
   "source": [
    "data/data.csv\n",
    "有重複資料\n",
    "562 => 522"
   ],
   "metadata": {}
  },
  {
   "cell_type": "code",
   "execution_count": 1,
   "source": [
    "import torch\n",
    "import torch.optim as optim"
   ],
   "outputs": [],
   "metadata": {}
  },
  {
   "cell_type": "code",
   "execution_count": 2,
   "source": [
    "import pandas as pd"
   ],
   "outputs": [],
   "metadata": {}
  },
  {
   "cell_type": "code",
   "execution_count": 6,
   "source": [
    "df = pd.read_csv(\"data/data.csv\")"
   ],
   "outputs": [],
   "metadata": {}
  },
  {
   "cell_type": "code",
   "execution_count": 9,
   "source": [
    "df.count()"
   ],
   "outputs": [
    {
     "output_type": "execute_result",
     "data": {
      "text/plain": [
       "sublocation    562\n",
       "Seq            562\n",
       "dtype: int64"
      ]
     },
     "metadata": {},
     "execution_count": 9
    }
   ],
   "metadata": {}
  },
  {
   "cell_type": "code",
   "execution_count": 11,
   "source": [
    "ben_df = pd.read_csv(\"data/lncLocPred/ben-sublocation-seq.csv\")\n",
    "ind_df = pd.read_csv(\"data/lncLocPred/ind-sublocation-seq.csv\")"
   ],
   "outputs": [],
   "metadata": {}
  },
  {
   "cell_type": "code",
   "execution_count": 12,
   "source": [
    "print(ben_df.count())\n",
    "print(ben_df.drop_duplicates().count())\n",
    "print(ind_df.count())\n",
    "print(ind_df.drop_duplicates().count())"
   ],
   "outputs": [
    {
     "output_type": "stream",
     "name": "stdout",
     "text": [
      "sublocation    225\n",
      "Seq            225\n",
      "dtype: int64\n",
      "sublocation    225\n",
      "Seq            225\n",
      "dtype: int64\n",
      "sublocation    337\n",
      "Seq            337\n",
      "dtype: int64\n",
      "sublocation    297\n",
      "Seq            297\n",
      "dtype: int64\n"
     ]
    }
   ],
   "metadata": {}
  },
  {
   "cell_type": "code",
   "execution_count": null,
   "source": [
    "print(ind_df.value_counts())"
   ],
   "outputs": [],
   "metadata": {}
  },
  {
   "cell_type": "code",
   "execution_count": 10,
   "source": [
    "df.drop_duplicates().count()"
   ],
   "outputs": [
    {
     "output_type": "execute_result",
     "data": {
      "text/plain": [
       "sublocation    522\n",
       "Seq            522\n",
       "dtype: int64"
      ]
     },
     "metadata": {},
     "execution_count": 10
    }
   ],
   "metadata": {}
  },
  {
   "cell_type": "code",
   "execution_count": 5,
   "source": [
    "df1.to_csv(\"data/data.csv\", mode = 'a', header = False, index = False)"
   ],
   "outputs": [],
   "metadata": {}
  }
 ],
 "metadata": {
  "orig_nbformat": 4,
  "language_info": {
   "name": "python",
   "version": "3.9.6",
   "mimetype": "text/x-python",
   "codemirror_mode": {
    "name": "ipython",
    "version": 3
   },
   "pygments_lexer": "ipython3",
   "nbconvert_exporter": "python",
   "file_extension": ".py"
  },
  "kernelspec": {
   "name": "python3",
   "display_name": "Python 3.9.6 64-bit ('pytorch_venv': pyenv)"
  },
  "interpreter": {
   "hash": "9c80977bd661cbdb86a39144a1217116da4077400449f219744597794d34fa3a"
  }
 },
 "nbformat": 4,
 "nbformat_minor": 2
}