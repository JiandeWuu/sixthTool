{
 "cells": [
  {
   "cell_type": "markdown",
   "metadata": {},
   "source": [
    "data/data.csv\n",
    "有重複資料\n",
    "562 => 522"
   ]
  },
  {
   "cell_type": "code",
   "execution_count": 104,
   "metadata": {},
   "outputs": [],
   "source": [
    "import time\n",
    "\n",
    "import numpy as np\n",
    "import pandas as pd\n",
    "import torch\n",
    "import torch.optim as optim\n",
    "import matplotlib.pyplot as plt"
   ]
  },
  {
   "cell_type": "code",
   "execution_count": 2,
   "metadata": {},
   "outputs": [],
   "source": [
    "df = pd.read_csv(\"data/linear_features/cdhit80_k1_linear10_loc75.csv\")"
   ]
  },
  {
   "cell_type": "code",
   "execution_count": 21,
   "metadata": {},
   "outputs": [
    {
     "name": "stdout",
     "output_type": "stream",
     "text": [
      "[ 691  376 1972 ... 2582  135  391]\n",
      "2432\n",
      "608\n"
     ]
    }
   ],
   "source": [
    "idx = np.arange(len(df))\n",
    "np.random.shuffle(idx)\n",
    "print(idx)\n",
    "train_df = df[df.index.isin(idx[:int(len(idx) * 0.8)])]\n",
    "print(len(train_df))\n",
    "test_df = df[df.index.isin(idx[int(len(idx) * 0.8):])]\n",
    "print(len(test_df))\n",
    "print(train_df[\"loc\"].value_counts())\n",
    "print(test_df[\"loc\"].value_counts())\n",
    "len_box = [train_df['len'], test_df['len']]\n",
    "plt.boxplot(len_box)\n",
    "plt.show()"
   ]
  },
  {
   "cell_type": "code",
   "execution_count": 4,
   "metadata": {},
   "outputs": [
    {
     "name": "stdout",
     "output_type": "stream",
     "text": [
      "(150, 4) (150,)\n"
     ]
    }
   ],
   "source": [
    "from sklearn.model_selection import train_test_split\n",
    "from sklearn import datasets\n",
    "from sklearn import svm\n",
    "\n",
    "X, y = datasets.load_iris(return_X_y=True)\n",
    "print(X.shape, y.shape)"
   ]
  },
  {
   "cell_type": "code",
   "execution_count": 5,
   "metadata": {},
   "outputs": [
    {
     "data": {
      "text/plain": [
       "0.9666666666666667"
      ]
     },
     "execution_count": 5,
     "metadata": {},
     "output_type": "execute_result"
    }
   ],
   "source": [
    "X_train, X_test, y_train, y_test = train_test_split(X, y, test_size=0.4, random_state=0)\n",
    "clf = svm.SVC(kernel='linear', C=1).fit(X_train, y_train)\n",
    "clf.score(X_test, y_test)"
   ]
  },
  {
   "cell_type": "code",
   "execution_count": 28,
   "metadata": {},
   "outputs": [],
   "source": [
    "from sklearn.model_selection import cross_val_score\n",
    "\n",
    "clf = svm.SVC(kernel='linear', C=1, random_state=42)\n",
    "scores = cross_val_score(clf, X, y, cv=5)"
   ]
  },
  {
   "cell_type": "code",
   "execution_count": null,
   "metadata": {},
   "outputs": [],
   "source": []
  },
  {
   "cell_type": "code",
   "execution_count": 71,
   "metadata": {},
   "outputs": [
    {
     "name": "stdout",
     "output_type": "stream",
     "text": [
      "(2432, 45)\n",
      "(2432,)\n",
      "0    Cytosolic\n",
      "1    Cytosolic\n",
      "2    Cytosolic\n",
      "3    Cytosolic\n",
      "4    Cytosolic\n",
      "5    Cytosolic\n",
      "6    Cytosolic\n",
      "7    Cytosolic\n",
      "8    Cytosolic\n",
      "9    Cytosolic\n",
      "Name: loc, dtype: object\n"
     ]
    }
   ],
   "source": [
    "col = train_df.columns\n",
    "x_train = train_df[col[:-1]]\n",
    "y_train = train_df[col[-1]]\n",
    "x_test = test_df[col[:-1]]\n",
    "y_test = test_df[col[-1]]\n",
    "print(x_train.shape)\n",
    "print(y_train.shape)\n",
    "x_train = x_train.reset_index(drop=True)\n",
    "y_train = y_train.reset_index(drop=True)\n",
    "print(y_train.head(10))"
   ]
  },
  {
   "cell_type": "code",
   "execution_count": 72,
   "metadata": {},
   "outputs": [
    {
     "name": "stdout",
     "output_type": "stream",
     "text": [
      "1945\n",
      "487\n"
     ]
    }
   ],
   "source": [
    "idx = np.arange(len(x_train))\n",
    "np.random.shuffle(idx)\n",
    "train_x = x_train[x_train.index.isin(idx[:int(len(idx) * 0.8)])]\n",
    "train_y = y_train[y_train.index.isin(idx[:int(len(idx) * 0.8)])]\n",
    "vild_x = x_train[x_train.index.isin(idx[int(len(idx) * 0.8):])]\n",
    "vild_y = y_train[y_train.index.isin(idx[int(len(idx) * 0.8):])]\n",
    "print(len(train_y))\n",
    "print(len(vild_y))"
   ]
  },
  {
   "cell_type": "code",
   "execution_count": 74,
   "metadata": {},
   "outputs": [
    {
     "data": {
      "text/plain": [
       "0.919917864476386"
      ]
     },
     "execution_count": 74,
     "metadata": {},
     "output_type": "execute_result"
    }
   ],
   "source": [
    "clf = svm.SVC(kernel='linear', C=1).fit(train_x, train_y)\n",
    "clf.score(vild_x, vild_y)"
   ]
  },
  {
   "cell_type": "code",
   "execution_count": 100,
   "metadata": {},
   "outputs": [
    {
     "name": "stdout",
     "output_type": "stream",
     "text": [
      "0.02564102564102564\n",
      "0.984375\n"
     ]
    }
   ],
   "source": [
    "vild_nuc = vild_y == \"Nucleus\"\n",
    "vild_cyt = vild_y == \"Cytosolic\"\n",
    "score_nuc = clf.score(vild_x[vild_nuc], vild_y[vild_nuc])\n",
    "score_cyt = clf.score(vild_x[vild_cyt], vild_y[vild_cyt])\n",
    "print(score_nuc)\n",
    "print(score_cyt)"
   ]
  },
  {
   "cell_type": "code",
   "execution_count": 102,
   "metadata": {},
   "outputs": [],
   "source": [
    "clf = svm.SVC(kernel='linear', C=1, class_weight='balanced')\n",
    "scores = cross_val_score(clf, train_x, train_y, cv=10)"
   ]
  },
  {
   "cell_type": "code",
   "execution_count": 101,
   "metadata": {},
   "outputs": [
    {
     "data": {
      "text/plain": [
       "0.4414784394250513"
      ]
     },
     "execution_count": 101,
     "metadata": {},
     "output_type": "execute_result"
    }
   ],
   "source": [
    "clf = svm.SVC(kernel='linear', C=1, class_weight='balanced').fit(train_x, train_y)\n",
    "clf.score(vild_x, vild_y)"
   ]
  },
  {
   "cell_type": "code",
   "execution_count": null,
   "metadata": {},
   "outputs": [],
   "source": [
    "start_time = time.time()\n",
    "step_size = len(loader)\n",
    "for epoch in range(epochs):\n",
    "    for step, (batch_x, batch_mask, batch_y) in enumerate(loader):\n",
    "        step_time = time.time()\n",
    "        model.zero_grad()\n",
    "        pred = model(batch_x)\n",
    "        \n",
    "        loss = loss_fn(pred.softmax(dim=1), batch_y)\n",
    "        print('Epoch: %i | Step: %i/%i | Loss: %.2f | time: %.2f s' % (epoch, step, step_size, loss, time.time() - step_time))\n",
    "        loss.backward()\n",
    "        optimizer.step()\n",
    "\n",
    "print('all time : ', time.time() - start_time,'s')"
   ]
  }
 ],
 "metadata": {
  "interpreter": {
   "hash": "40d3a090f54c6569ab1632332b64b2c03c39dcf918b08424e98f38b5ae0af88f"
  },
  "kernelspec": {
   "display_name": "Python 3.8.8 64-bit ('base': conda)",
   "name": "python3"
  },
  "language_info": {
   "codemirror_mode": {
    "name": "ipython",
    "version": 3
   },
   "file_extension": ".py",
   "mimetype": "text/x-python",
   "name": "python",
   "nbconvert_exporter": "python",
   "pygments_lexer": "ipython3",
   "version": "3.8.8"
  },
  "orig_nbformat": 4
 },
 "nbformat": 4,
 "nbformat_minor": 2
}
