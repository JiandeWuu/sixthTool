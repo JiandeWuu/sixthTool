{
 "cells": [
  {
   "cell_type": "markdown",
   "metadata": {},
   "source": [
    "data/data.csv\n",
    "有重複資料\n",
    "562 => 522"
   ]
  },
  {
   "cell_type": "code",
   "execution_count": 1,
   "metadata": {},
   "outputs": [
    {
     "name": "stderr",
     "output_type": "stream",
     "text": [
      "/Users/jiandewu/.pyenv/versions/3.9.6/envs/testvenv/lib/python3.9/site-packages/pandas/compat/__init__.py:124: UserWarning: Could not import the lzma module. Your installed Python is incomplete. Attempting to use lzma compression will result in a RuntimeError.\n",
      "  warnings.warn(msg)\n"
     ]
    }
   ],
   "source": [
    "import pandas as pd\n",
    "import torch\n",
    "import torch.optim as optim"
   ]
  },
  {
   "cell_type": "code",
   "execution_count": 2,
   "metadata": {},
   "outputs": [],
   "source": [
    "df = pd.read_csv(\"data/data.csv\")"
   ]
  },
  {
   "cell_type": "code",
   "execution_count": 8,
   "metadata": {},
   "outputs": [
    {
     "name": "stdout",
     "output_type": "stream",
     "text": [
      "CAGGAGAGACAGUCUCACUCUGUUGCCCAGGCUGGAAUACAGUGGUGUGAUCAUAGCUCACUGCAGCCUCUUUUAACUCCUGGGCUCAAGCAAUCCUUCCAACCUCAGCAUUCUGAGUAGCUGGGAUCACAGGUGCUCCCCAUCACACCCUGCUAAUUUAAUUUUCUUUGUAGAGACAGGGUCUUGCUAUGUUGCCUAGGCUGGUCUUGAACUCCUGGGCUCAAGUGAUCCUCCCGCCUCAGCCUCCCAGUGUUAGGAUUACAGGAGUGAGCCACUGCCUCUGCCUUCAGGUAGCAAUUUUAUUAGCAAACUAUAAGCCUAAAGUAAUAGUUAAAAUUCUCACUGUGAUAUUCAUUACUAACCCCUGAACCUGUACCCUUCAGCUUACCACUACAGUACUUCUGUAGUAGAGCGAGUAUGGGUUUUGGUAUCAGACAGGUCCAAAUUUGAAUUCUGGUUCUACCUUUCAUUUAUCAAAUGACUUUGGGCAAAGUACUUAACCUCUCUGAGCUUUAGUUCCCUUCUCUGUAAAAGAAUAAAAUAUUUCAGUCUUAUCGUGUAGAUGAUAUACAGAGGGCACAUAACAAAUGUUAGAUCUCUCAAAUGUUUUUCUGUAACCCAAAUAUGCUUACAACUGAUUAAAGAAUGUUCUCACU\n",
      "656 32\n",
      "8838 32\n"
     ]
    }
   ],
   "source": [
    "import hashlib\n",
    "\n",
    "print(df['Seq'][0])\n",
    "print(len(df['Seq'][0]), len(hashlib.md5(df['Seq'][0].encode('utf-8')).hexdigest()))\n",
    "print(len(df['Seq'][1]), len(hashlib.md5(df['Seq'][1].encode('utf-8')).hexdigest()))"
   ]
  },
  {
   "cell_type": "code",
   "execution_count": 5,
   "metadata": {},
   "outputs": [
    {
     "data": {
      "text/plain": [
       "sublocation    562\n",
       "Seq            562\n",
       "dtype: int64"
      ]
     },
     "execution_count": 5,
     "metadata": {},
     "output_type": "execute_result"
    }
   ],
   "source": [
    "df.count()"
   ]
  },
  {
   "cell_type": "code",
   "execution_count": 11,
   "metadata": {},
   "outputs": [],
   "source": [
    "ben_df = pd.read_csv(\"data/lncLocPred/ben-sublocation-seq.csv\")\n",
    "ind_df = pd.read_csv(\"data/lncLocPred/ind-sublocation-seq.csv\")"
   ]
  },
  {
   "cell_type": "code",
   "execution_count": 12,
   "metadata": {},
   "outputs": [
    {
     "name": "stdout",
     "output_type": "stream",
     "text": [
      "sublocation    225\n",
      "Seq            225\n",
      "dtype: int64\n",
      "sublocation    225\n",
      "Seq            225\n",
      "dtype: int64\n",
      "sublocation    337\n",
      "Seq            337\n",
      "dtype: int64\n",
      "sublocation    297\n",
      "Seq            297\n",
      "dtype: int64\n"
     ]
    }
   ],
   "source": [
    "print(ben_df.count())\n",
    "print(ben_df.drop_duplicates().count())\n",
    "print(ind_df.count())\n",
    "print(ind_df.drop_duplicates().count())"
   ]
  },
  {
   "cell_type": "code",
   "execution_count": null,
   "metadata": {},
   "outputs": [],
   "source": [
    "print(ind_df.value_counts())"
   ]
  },
  {
   "cell_type": "code",
   "execution_count": 10,
   "metadata": {},
   "outputs": [
    {
     "data": {
      "text/plain": [
       "sublocation    522\n",
       "Seq            522\n",
       "dtype: int64"
      ]
     },
     "execution_count": 10,
     "metadata": {},
     "output_type": "execute_result"
    }
   ],
   "source": [
    "df.drop_duplicates().count()"
   ]
  },
  {
   "cell_type": "code",
   "execution_count": 5,
   "metadata": {},
   "outputs": [],
   "source": [
    "df1.to_csv(\"data/data.csv\", mode = 'a', header = False, index = False)"
   ]
  }
 ],
 "metadata": {
  "interpreter": {
   "hash": "911519d9d2a6bb910d202bb6a963e5f76f777f159da93d44a4a099157dae11b7"
  },
  "kernelspec": {
   "display_name": "Python 3.9.6 64-bit ('testvenv': pyenv)",
   "name": "python3"
  },
  "language_info": {
   "codemirror_mode": {
    "name": "ipython",
    "version": 3
   },
   "file_extension": ".py",
   "mimetype": "text/x-python",
   "name": "python",
   "nbconvert_exporter": "python",
   "pygments_lexer": "ipython3",
   "version": "3.9.6"
  },
  "orig_nbformat": 4
 },
 "nbformat": 4,
 "nbformat_minor": 2
}
